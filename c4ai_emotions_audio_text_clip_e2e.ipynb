{
 "cells": [
  {
   "cell_type": "code",
   "execution_count": 1,
   "metadata": {
    "id": "DWzS3wXGtWRT"
   },
   "outputs": [],
   "source": [
    "import pandas as pd\n",
    "import numpy as np\n",
    "import pickle as pkl"
   ]
  },
  {
   "cell_type": "code",
   "execution_count": 2,
   "metadata": {
    "colab": {
     "base_uri": "https://localhost:8080/"
    },
    "id": "Evqqe4pG8k3z",
    "outputId": "b9003d1d-4fba-40f4-aa63-58deb401a5c8"
   },
   "outputs": [
    {
     "name": "stdout",
     "output_type": "stream",
     "text": [
      "Sun Mar 26 14:05:32 2023       \r\n",
      "+-----------------------------------------------------------------------------+\r\n",
      "| NVIDIA-SMI 525.89.02    Driver Version: 525.89.02    CUDA Version: 12.0     |\r\n",
      "|-------------------------------+----------------------+----------------------+\r\n",
      "| GPU  Name        Persistence-M| Bus-Id        Disp.A | Volatile Uncorr. ECC |\r\n",
      "| Fan  Temp  Perf  Pwr:Usage/Cap|         Memory-Usage | GPU-Util  Compute M. |\r\n",
      "|                               |                      |               MIG M. |\r\n",
      "|===============================+======================+======================|\r\n",
      "|   0  NVIDIA GeForce ...  Off  | 00000000:01:00.0  On |                  N/A |\r\n",
      "| 36%   60C    P0   149W / 350W |    402MiB / 24576MiB |      6%      Default |\r\n",
      "|                               |                      |                  N/A |\r\n",
      "+-------------------------------+----------------------+----------------------+\r\n",
      "                                                                               \r\n",
      "+-----------------------------------------------------------------------------+\r\n",
      "| Processes:                                                                  |\r\n",
      "|  GPU   GI   CI        PID   Type   Process name                  GPU Memory |\r\n",
      "|        ID   ID                                                   Usage      |\r\n",
      "|=============================================================================|\r\n",
      "|    0   N/A  N/A      2157      G   /usr/lib/xorg/Xorg                158MiB |\r\n",
      "|    0   N/A  N/A      2271      G   /usr/bin/gnome-shell               76MiB |\r\n",
      "|    0   N/A  N/A      4679      G   ...645623662241229126,131072      150MiB |\r\n",
      "|    0   N/A  N/A     41297      G   gnome-control-center                4MiB |\r\n",
      "|    0   N/A  N/A     42217      G   ...2gtk-4.0/WebKitWebProcess       10MiB |\r\n",
      "+-----------------------------------------------------------------------------+\r\n"
     ]
    }
   ],
   "source": [
    "!nvidia-smi"
   ]
  },
  {
   "cell_type": "markdown",
   "metadata": {
    "id": "Ni3W9xIGXG1Z"
   },
   "source": [
    "## Load GoEmotions and Audio Datasets (CREMA, TESS, ETC)"
   ]
  },
  {
   "cell_type": "code",
   "execution_count": 3,
   "metadata": {
    "id": "VJWwfnsutyBN"
   },
   "outputs": [],
   "source": [
    "train_audio = pkl.load(open('./data/c4ai_clip/train_audio.pkl', \"rb\"))[['path', 'label']]\n",
    "test_audio = pkl.load(open('./data/c4ai_clip/test_audio.pkl', \"rb\"))[['path', 'label']]\n",
    "train_text = pkl.load(open('./data/c4ai_clip/train_text.pkl', \"rb\"))[['text', 'grouped_label']]\n",
    "test_text = pkl.load(open('./data/c4ai_clip/test_text.pkl', \"rb\"))[['text', 'grouped_label']]"
   ]
  },
  {
   "cell_type": "code",
   "execution_count": 4,
   "metadata": {
    "colab": {
     "base_uri": "https://localhost:8080/"
    },
    "id": "Ov6R_5UhfUd7",
    "outputId": "9d35f7b5-a38e-4b6e-8be2-daf38365486e"
   },
   "outputs": [],
   "source": [
    "#!unzip ./data/c4ai_clip/audio_emo_resampled.zip -d ./audio"
   ]
  },
  {
   "cell_type": "code",
   "execution_count": 5,
   "metadata": {
    "id": "kwdbm_LN0wVk"
   },
   "outputs": [],
   "source": [
    "def norm_labels(x):\n",
    "    if x == \"afraid\":\n",
    "        return \"fear\"\n",
    "    elif x == \"angry\":\n",
    "        return \"anger\"\n",
    "    elif x == \"disgusted\":\n",
    "        return \"disgust\"\n",
    "    elif x == \"sad\":\n",
    "        return \"sadness\"\n",
    "    else:\n",
    "        return x"
   ]
  },
  {
   "cell_type": "code",
   "execution_count": 6,
   "metadata": {
    "id": "XefjoUugGJe9"
   },
   "outputs": [],
   "source": [
    "train_audio[\"label\"] = train_audio[\"label\"].apply(norm_labels)\n",
    "test_audio[\"label\"] = test_audio[\"label\"].apply(norm_labels)"
   ]
  },
  {
   "cell_type": "code",
   "execution_count": 7,
   "metadata": {
    "colab": {
     "base_uri": "https://localhost:8080/",
     "height": 424
    },
    "id": "pIcNuJ6sjPt8",
    "outputId": "71110be1-2732-4d72-e8fa-3023f6f9632b"
   },
   "outputs": [
    {
     "data": {
      "text/html": [
       "<div>\n",
       "<style scoped>\n",
       "    .dataframe tbody tr th:only-of-type {\n",
       "        vertical-align: middle;\n",
       "    }\n",
       "\n",
       "    .dataframe tbody tr th {\n",
       "        vertical-align: top;\n",
       "    }\n",
       "\n",
       "    .dataframe thead th {\n",
       "        text-align: right;\n",
       "    }\n",
       "</style>\n",
       "<table border=\"1\" class=\"dataframe\">\n",
       "  <thead>\n",
       "    <tr style=\"text-align: right;\">\n",
       "      <th></th>\n",
       "      <th>path</th>\n",
       "      <th>label</th>\n",
       "    </tr>\n",
       "  </thead>\n",
       "  <tbody>\n",
       "    <tr>\n",
       "      <th>11545</th>\n",
       "      <td>./audio/audio_emo/crema.man.sad.465.wav</td>\n",
       "      <td>sadness</td>\n",
       "    </tr>\n",
       "    <tr>\n",
       "      <th>1970</th>\n",
       "      <td>./audio/audio_emo/ravdass.man.sad.74.wav</td>\n",
       "      <td>sadness</td>\n",
       "    </tr>\n",
       "    <tr>\n",
       "      <th>6326</th>\n",
       "      <td>./audio/audio_emo/tess.woman.surprised.370.wav</td>\n",
       "      <td>surprise</td>\n",
       "    </tr>\n",
       "    <tr>\n",
       "      <th>11579</th>\n",
       "      <td>./audio/audio_emo/tess.woman.neutral.110.wav</td>\n",
       "      <td>neutral</td>\n",
       "    </tr>\n",
       "    <tr>\n",
       "      <th>9502</th>\n",
       "      <td>./audio/audio_emo/crema.woman.happy.586.wav</td>\n",
       "      <td>joy</td>\n",
       "    </tr>\n",
       "    <tr>\n",
       "      <th>...</th>\n",
       "      <td>...</td>\n",
       "      <td>...</td>\n",
       "    </tr>\n",
       "    <tr>\n",
       "      <th>8732</th>\n",
       "      <td>./audio/audio_emo/crema.man.angry.530.wav</td>\n",
       "      <td>anger</td>\n",
       "    </tr>\n",
       "    <tr>\n",
       "      <th>5386</th>\n",
       "      <td>./audio/audio_emo/tess.woman.happy.322.wav</td>\n",
       "      <td>joy</td>\n",
       "    </tr>\n",
       "    <tr>\n",
       "      <th>83</th>\n",
       "      <td>./audio/audio_emo/crema.man.afraid.455.wav</td>\n",
       "      <td>fear</td>\n",
       "    </tr>\n",
       "    <tr>\n",
       "      <th>6755</th>\n",
       "      <td>./audio/audio_emo/crema.woman.disgusted.239.wav</td>\n",
       "      <td>disgust</td>\n",
       "    </tr>\n",
       "    <tr>\n",
       "      <th>9152</th>\n",
       "      <td>./audio/audio_emo/crema.woman.afraid.168.wav</td>\n",
       "      <td>fear</td>\n",
       "    </tr>\n",
       "  </tbody>\n",
       "</table>\n",
       "<p>2337 rows × 2 columns</p>\n",
       "</div>"
      ],
      "text/plain": [
       "                                                  path     label\n",
       "11545          ./audio/audio_emo/crema.man.sad.465.wav   sadness\n",
       "1970          ./audio/audio_emo/ravdass.man.sad.74.wav   sadness\n",
       "6326    ./audio/audio_emo/tess.woman.surprised.370.wav  surprise\n",
       "11579     ./audio/audio_emo/tess.woman.neutral.110.wav   neutral\n",
       "9502       ./audio/audio_emo/crema.woman.happy.586.wav       joy\n",
       "...                                                ...       ...\n",
       "8732         ./audio/audio_emo/crema.man.angry.530.wav     anger\n",
       "5386        ./audio/audio_emo/tess.woman.happy.322.wav       joy\n",
       "83          ./audio/audio_emo/crema.man.afraid.455.wav      fear\n",
       "6755   ./audio/audio_emo/crema.woman.disgusted.239.wav   disgust\n",
       "9152      ./audio/audio_emo/crema.woman.afraid.168.wav      fear\n",
       "\n",
       "[2337 rows x 2 columns]"
      ]
     },
     "execution_count": 7,
     "metadata": {},
     "output_type": "execute_result"
    }
   ],
   "source": [
    "test_audio"
   ]
  },
  {
   "cell_type": "markdown",
   "metadata": {
    "id": "Qk8YSzYOX4H6"
   },
   "source": [
    "## Load Meld"
   ]
  },
  {
   "cell_type": "code",
   "execution_count": 8,
   "metadata": {
    "id": "eDL1tDN8MLvT"
   },
   "outputs": [],
   "source": [
    "def load_split_meld(split):\n",
    "    assert split in ['train', 'test', 'dev']\n",
    "    \n",
    "    df = pd.read_csv(f\"./meld_raw/{split}_splits/{split}_sent_emo.csv\")\n",
    "    df['path'] = df.apply(lambda x: f\"./meld_raw/{split}_splits/audios/dia{x['Dialogue_ID']}_utt{x['Utterance_ID']}.wav\".strip('\\n'), axis=1)\n",
    "    \n",
    "    return (\n",
    "        df[['path', 'Emotion']]\n",
    "        .rename(columns={'Emotion':'label'})\n",
    "    )"
   ]
  },
  {
   "cell_type": "code",
   "execution_count": 9,
   "metadata": {
    "colab": {
     "base_uri": "https://localhost:8080/"
    },
    "id": "sDKLMwOQX-6Z",
    "outputId": "ba1fa968-71e1-4f41-a9c0-42367a4d7a89"
   },
   "outputs": [],
   "source": [
    "df_meld_train = load_split_meld('train')\n",
    "df_meld_dev = load_split_meld('dev')\n",
    "df_meld_test = load_split_meld('test')"
   ]
  },
  {
   "cell_type": "code",
   "execution_count": 10,
   "metadata": {
    "colab": {
     "base_uri": "https://localhost:8080/",
     "height": 424
    },
    "id": "oOmmHhkQjhN8",
    "outputId": "1e27f36f-125a-4277-8d29-1f530507b4af"
   },
   "outputs": [
    {
     "data": {
      "text/html": [
       "<div>\n",
       "<style scoped>\n",
       "    .dataframe tbody tr th:only-of-type {\n",
       "        vertical-align: middle;\n",
       "    }\n",
       "\n",
       "    .dataframe tbody tr th {\n",
       "        vertical-align: top;\n",
       "    }\n",
       "\n",
       "    .dataframe thead th {\n",
       "        text-align: right;\n",
       "    }\n",
       "</style>\n",
       "<table border=\"1\" class=\"dataframe\">\n",
       "  <thead>\n",
       "    <tr style=\"text-align: right;\">\n",
       "      <th></th>\n",
       "      <th>path</th>\n",
       "      <th>label</th>\n",
       "    </tr>\n",
       "  </thead>\n",
       "  <tbody>\n",
       "    <tr>\n",
       "      <th>0</th>\n",
       "      <td>./meld_raw/dev_splits/audios/dia0_utt0.wav</td>\n",
       "      <td>sadness</td>\n",
       "    </tr>\n",
       "    <tr>\n",
       "      <th>1</th>\n",
       "      <td>./meld_raw/dev_splits/audios/dia0_utt1.wav</td>\n",
       "      <td>surprise</td>\n",
       "    </tr>\n",
       "    <tr>\n",
       "      <th>2</th>\n",
       "      <td>./meld_raw/dev_splits/audios/dia1_utt0.wav</td>\n",
       "      <td>neutral</td>\n",
       "    </tr>\n",
       "    <tr>\n",
       "      <th>3</th>\n",
       "      <td>./meld_raw/dev_splits/audios/dia1_utt1.wav</td>\n",
       "      <td>joy</td>\n",
       "    </tr>\n",
       "    <tr>\n",
       "      <th>4</th>\n",
       "      <td>./meld_raw/dev_splits/audios/dia1_utt2.wav</td>\n",
       "      <td>sadness</td>\n",
       "    </tr>\n",
       "    <tr>\n",
       "      <th>...</th>\n",
       "      <td>...</td>\n",
       "      <td>...</td>\n",
       "    </tr>\n",
       "    <tr>\n",
       "      <th>1104</th>\n",
       "      <td>./meld_raw/dev_splits/audios/dia113_utt9.wav</td>\n",
       "      <td>sadness</td>\n",
       "    </tr>\n",
       "    <tr>\n",
       "      <th>1105</th>\n",
       "      <td>./meld_raw/dev_splits/audios/dia113_utt10.wav</td>\n",
       "      <td>sadness</td>\n",
       "    </tr>\n",
       "    <tr>\n",
       "      <th>1106</th>\n",
       "      <td>./meld_raw/dev_splits/audios/dia113_utt11.wav</td>\n",
       "      <td>sadness</td>\n",
       "    </tr>\n",
       "    <tr>\n",
       "      <th>1107</th>\n",
       "      <td>./meld_raw/dev_splits/audios/dia113_utt12.wav</td>\n",
       "      <td>sadness</td>\n",
       "    </tr>\n",
       "    <tr>\n",
       "      <th>1108</th>\n",
       "      <td>./meld_raw/dev_splits/audios/dia113_utt13.wav</td>\n",
       "      <td>sadness</td>\n",
       "    </tr>\n",
       "  </tbody>\n",
       "</table>\n",
       "<p>1109 rows × 2 columns</p>\n",
       "</div>"
      ],
      "text/plain": [
       "                                               path     label\n",
       "0        ./meld_raw/dev_splits/audios/dia0_utt0.wav   sadness\n",
       "1        ./meld_raw/dev_splits/audios/dia0_utt1.wav  surprise\n",
       "2        ./meld_raw/dev_splits/audios/dia1_utt0.wav   neutral\n",
       "3        ./meld_raw/dev_splits/audios/dia1_utt1.wav       joy\n",
       "4        ./meld_raw/dev_splits/audios/dia1_utt2.wav   sadness\n",
       "...                                             ...       ...\n",
       "1104   ./meld_raw/dev_splits/audios/dia113_utt9.wav   sadness\n",
       "1105  ./meld_raw/dev_splits/audios/dia113_utt10.wav   sadness\n",
       "1106  ./meld_raw/dev_splits/audios/dia113_utt11.wav   sadness\n",
       "1107  ./meld_raw/dev_splits/audios/dia113_utt12.wav   sadness\n",
       "1108  ./meld_raw/dev_splits/audios/dia113_utt13.wav   sadness\n",
       "\n",
       "[1109 rows x 2 columns]"
      ]
     },
     "execution_count": 10,
     "metadata": {},
     "output_type": "execute_result"
    }
   ],
   "source": [
    "df_meld_dev"
   ]
  },
  {
   "cell_type": "markdown",
   "metadata": {
    "id": "QBZMZhUUYR9K"
   },
   "source": [
    "## Load Iemocap"
   ]
  },
  {
   "cell_type": "code",
   "execution_count": 11,
   "metadata": {
    "id": "ZaM9ftMbYUFq"
   },
   "outputs": [],
   "source": [
    "def load_iemocap(path):\n",
    "    def normalize_labels(label):\n",
    "        if label == 'neu':\n",
    "            return 'neutral'\n",
    "        elif label == 'sad' or label == 'fru':\n",
    "            return 'sadness'\n",
    "        elif label == 'fea':\n",
    "            return 'fear'\n",
    "        elif label == 'dis':\n",
    "            return 'disgust'\n",
    "        elif label == 'sur':\n",
    "            return 'surprise'\n",
    "        elif label == 'ang':\n",
    "            return 'anger'\n",
    "        elif label == 'hap' or label == 'exc':\n",
    "            return 'joy'\n",
    "        else:\n",
    "            return 'xxx'\n",
    "        \n",
    "    df = pd.read_csv(f'{path}/df_iemocap.csv')[['wav_file', 'emotion']]\n",
    "    df['label'] = df['emotion'].apply(normalize_labels)\n",
    "    print(df['label'].unique())\n",
    "    df = df[df['label'] != 'xxx']\n",
    "    df = df[['wav_file', 'label']]\n",
    "    df['wav_file'] = df['wav_file'].apply(lambda x: f\"{path}/audios/{x}.wav\")\n",
    "    df['split'] = df['wav_file'].apply(lambda x: 'train' if not '05' in x.split('_')[0][:-1] else 'test')\n",
    "    df = df.rename(columns={'wav_file':'path'})\n",
    "    train, test = df[df['split'] == 'train'], df[df['split'] == 'test']\n",
    "    return train, test"
   ]
  },
  {
   "cell_type": "code",
   "execution_count": 12,
   "metadata": {
    "colab": {
     "base_uri": "https://localhost:8080/"
    },
    "id": "N7bPMxCKfAvD",
    "outputId": "28a9868c-e4c4-4376-cdb9-563b2a02fe34"
   },
   "outputs": [],
   "source": [
    "#!unzip /content/drive/MyDrive/iemocap.zip -d ."
   ]
  },
  {
   "cell_type": "code",
   "execution_count": 13,
   "metadata": {
    "id": "aYpl73mdKTi8"
   },
   "outputs": [],
   "source": [
    "#df = pd.read_csv(f'./df_iemocap.csv')[['wav_file', 'emotion']]"
   ]
  },
  {
   "cell_type": "code",
   "execution_count": 14,
   "metadata": {
    "id": "VqhN4mlRKWD1"
   },
   "outputs": [],
   "source": [
    "#df[\"emotion\"].unique()"
   ]
  },
  {
   "cell_type": "code",
   "execution_count": 15,
   "metadata": {
    "colab": {
     "base_uri": "https://localhost:8080/"
    },
    "id": "r4Q4N-E0j0G-",
    "outputId": "ca0420e1-efd4-4dbf-843c-19c253fd877e"
   },
   "outputs": [
    {
     "name": "stdout",
     "output_type": "stream",
     "text": [
      "['neutral' 'xxx' 'sadness' 'anger' 'joy' 'surprise' 'fear' 'disgust']\n"
     ]
    }
   ],
   "source": [
    "df_iemocap_train, df_iemocap_test = load_iemocap('.')"
   ]
  },
  {
   "cell_type": "code",
   "execution_count": 16,
   "metadata": {
    "colab": {
     "base_uri": "https://localhost:8080/"
    },
    "id": "mo7VlMCHj_zs",
    "outputId": "5678a9a9-252b-4d29-ecdd-43a310c5165d"
   },
   "outputs": [
    {
     "data": {
      "text/plain": [
       "array(['neutral', 'sadness', 'anger', 'joy', 'surprise', 'fear',\n",
       "       'disgust'], dtype=object)"
      ]
     },
     "execution_count": 16,
     "metadata": {},
     "output_type": "execute_result"
    }
   ],
   "source": [
    "df_iemocap_train['label'].unique()"
   ]
  },
  {
   "cell_type": "markdown",
   "metadata": {
    "id": "WXbw47lffnBL"
   },
   "source": [
    "## Join datasets (audio)"
   ]
  },
  {
   "cell_type": "code",
   "execution_count": 17,
   "metadata": {
    "id": "gJ21sglJfmpU"
   },
   "outputs": [],
   "source": [
    "# df_iemocap_train, df_iemocap_test, df_meld_train, df_meld_dev, df_meld_test\n",
    "#train_audio \n",
    "#test_audio\n",
    "#train_text \n",
    "#test_text"
   ]
  },
  {
   "cell_type": "code",
   "execution_count": 18,
   "metadata": {
    "id": "3qhKJxnIv2ma"
   },
   "outputs": [],
   "source": [
    "from os.path import exists\n",
    "\n",
    "#file_exists = exists(path_to_file)"
   ]
  },
  {
   "cell_type": "code",
   "execution_count": 19,
   "metadata": {
    "id": "RJQ3Ky9xkew8"
   },
   "outputs": [],
   "source": [
    "df_train_audio = pd.concat([df_iemocap_train[['path', 'label']], df_meld_train, train_audio], axis=0)"
   ]
  },
  {
   "cell_type": "code",
   "execution_count": 20,
   "metadata": {
    "id": "J92hem554uXS"
   },
   "outputs": [],
   "source": [
    "#df_train_audio = df_iemocap_train[['path', 'label']]"
   ]
  },
  {
   "cell_type": "code",
   "execution_count": 21,
   "metadata": {
    "id": "xIKswbRmlFZV"
   },
   "outputs": [],
   "source": [
    "df_dev_audio = pd.concat([df_meld_dev, test_audio], axis=0)"
   ]
  },
  {
   "cell_type": "code",
   "execution_count": 22,
   "metadata": {
    "id": "4_gbLE5k4yhp"
   },
   "outputs": [],
   "source": [
    "#df_dev_audio = df_iemocap_test[['path', 'label']]\n",
    "df_dev_audio = test_audio"
   ]
  },
  {
   "cell_type": "code",
   "execution_count": 23,
   "metadata": {
    "colab": {
     "base_uri": "https://localhost:8080/"
    },
    "id": "ZNjRZbK4xcOB",
    "outputId": "b8589e93-9a56-494f-a9f8-6e38a4672f01"
   },
   "outputs": [
    {
     "data": {
      "text/plain": [
       "25213"
      ]
     },
     "execution_count": 23,
     "metadata": {},
     "output_type": "execute_result"
    }
   ],
   "source": [
    "len(df_train_audio)"
   ]
  },
  {
   "cell_type": "code",
   "execution_count": 24,
   "metadata": {
    "colab": {
     "base_uri": "https://localhost:8080/"
    },
    "id": "gYBBNw5txuTr",
    "outputId": "a9b71212-2cdb-43f7-c1d8-626bfef56dff"
   },
   "outputs": [
    {
     "data": {
      "text/plain": [
       "2337"
      ]
     },
     "execution_count": 24,
     "metadata": {},
     "output_type": "execute_result"
    }
   ],
   "source": [
    "len(df_dev_audio)"
   ]
  },
  {
   "cell_type": "code",
   "execution_count": 25,
   "metadata": {
    "id": "M54RINMGv6I-"
   },
   "outputs": [],
   "source": [
    "aud = []\n",
    "for f in df_train_audio[\"path\"]:\n",
    "    if not exists(f):\n",
    "        aud.append(f)\n",
    "df_train_audio = df_train_audio[~df_train_audio['path'].isin(aud)]"
   ]
  },
  {
   "cell_type": "code",
   "execution_count": 26,
   "metadata": {
    "id": "uvrD-suPxfGf"
   },
   "outputs": [],
   "source": [
    "aud = []\n",
    "for f in df_dev_audio[\"path\"]:\n",
    "    if not exists(f):\n",
    "        aud.append(f)\n",
    "df_dev_audio = df_dev_audio[~df_dev_audio['path'].isin(aud)]"
   ]
  },
  {
   "cell_type": "code",
   "execution_count": 27,
   "metadata": {
    "colab": {
     "base_uri": "https://localhost:8080/"
    },
    "id": "PjAzuLrExx8Y",
    "outputId": "12a588d1-7ed1-4c03-fc9a-55a40911a149"
   },
   "outputs": [
    {
     "data": {
      "text/plain": [
       "2337"
      ]
     },
     "execution_count": 27,
     "metadata": {},
     "output_type": "execute_result"
    }
   ],
   "source": [
    "len(df_dev_audio)"
   ]
  },
  {
   "cell_type": "code",
   "execution_count": 28,
   "metadata": {
    "colab": {
     "base_uri": "https://localhost:8080/"
    },
    "id": "qok_zhYfleRt",
    "outputId": "76da92ae-c930-4869-c7fb-25e08425a310"
   },
   "outputs": [
    {
     "data": {
      "text/plain": [
       "array(['neutral', 'sadness', 'anger', 'joy', 'surprise', 'fear',\n",
       "       'disgust'], dtype=object)"
      ]
     },
     "execution_count": 28,
     "metadata": {},
     "output_type": "execute_result"
    }
   ],
   "source": [
    "df_train_audio['label'].unique()"
   ]
  },
  {
   "cell_type": "code",
   "execution_count": 29,
   "metadata": {
    "colab": {
     "base_uri": "https://localhost:8080/"
    },
    "id": "0rTABpVTlhT1",
    "outputId": "cc567b79-1470-4229-d587-925c507d6b61"
   },
   "outputs": [
    {
     "data": {
      "text/plain": [
       "array(['sadness', 'surprise', 'neutral', 'joy', 'disgust', 'anger',\n",
       "       'fear'], dtype=object)"
      ]
     },
     "execution_count": 29,
     "metadata": {},
     "output_type": "execute_result"
    }
   ],
   "source": [
    "df_dev_audio['label'].unique()"
   ]
  },
  {
   "cell_type": "code",
   "execution_count": 30,
   "metadata": {
    "colab": {
     "base_uri": "https://localhost:8080/"
    },
    "id": "3iAnCWC6li00",
    "outputId": "9230b4c4-af9c-454e-d045-c33c1559fbeb"
   },
   "outputs": [
    {
     "data": {
      "text/plain": [
       "array(['neutral', 'anger', 'fear', 'surprise', 'joy', 'sadness',\n",
       "       'disgust'], dtype=object)"
      ]
     },
     "execution_count": 30,
     "metadata": {},
     "output_type": "execute_result"
    }
   ],
   "source": [
    "train_text['grouped_label'].unique()"
   ]
  },
  {
   "cell_type": "code",
   "execution_count": 31,
   "metadata": {
    "colab": {
     "base_uri": "https://localhost:8080/"
    },
    "id": "aXyZj8XMmMFv",
    "outputId": "becfddb8-9202-49b9-898b-7651d39e0da6"
   },
   "outputs": [
    {
     "name": "stdout",
     "output_type": "stream",
     "text": [
      "43410 25212 5427 2337\n"
     ]
    }
   ],
   "source": [
    "print(len(train_text), len(df_train_audio), len(test_text), len(df_dev_audio))\n"
   ]
  },
  {
   "cell_type": "code",
   "execution_count": 32,
   "metadata": {
    "colab": {
     "base_uri": "https://localhost:8080/",
     "height": 75
    },
    "id": "2g91PVAy96pN",
    "outputId": "420c9794-6818-489e-97f0-2a83ba3e7309"
   },
   "outputs": [
    {
     "data": {
      "text/html": [
       "<style>#sk-container-id-1 {color: black;background-color: white;}#sk-container-id-1 pre{padding: 0;}#sk-container-id-1 div.sk-toggleable {background-color: white;}#sk-container-id-1 label.sk-toggleable__label {cursor: pointer;display: block;width: 100%;margin-bottom: 0;padding: 0.3em;box-sizing: border-box;text-align: center;}#sk-container-id-1 label.sk-toggleable__label-arrow:before {content: \"▸\";float: left;margin-right: 0.25em;color: #696969;}#sk-container-id-1 label.sk-toggleable__label-arrow:hover:before {color: black;}#sk-container-id-1 div.sk-estimator:hover label.sk-toggleable__label-arrow:before {color: black;}#sk-container-id-1 div.sk-toggleable__content {max-height: 0;max-width: 0;overflow: hidden;text-align: left;background-color: #f0f8ff;}#sk-container-id-1 div.sk-toggleable__content pre {margin: 0.2em;color: black;border-radius: 0.25em;background-color: #f0f8ff;}#sk-container-id-1 input.sk-toggleable__control:checked~div.sk-toggleable__content {max-height: 200px;max-width: 100%;overflow: auto;}#sk-container-id-1 input.sk-toggleable__control:checked~label.sk-toggleable__label-arrow:before {content: \"▾\";}#sk-container-id-1 div.sk-estimator input.sk-toggleable__control:checked~label.sk-toggleable__label {background-color: #d4ebff;}#sk-container-id-1 div.sk-label input.sk-toggleable__control:checked~label.sk-toggleable__label {background-color: #d4ebff;}#sk-container-id-1 input.sk-hidden--visually {border: 0;clip: rect(1px 1px 1px 1px);clip: rect(1px, 1px, 1px, 1px);height: 1px;margin: -1px;overflow: hidden;padding: 0;position: absolute;width: 1px;}#sk-container-id-1 div.sk-estimator {font-family: monospace;background-color: #f0f8ff;border: 1px dotted black;border-radius: 0.25em;box-sizing: border-box;margin-bottom: 0.5em;}#sk-container-id-1 div.sk-estimator:hover {background-color: #d4ebff;}#sk-container-id-1 div.sk-parallel-item::after {content: \"\";width: 100%;border-bottom: 1px solid gray;flex-grow: 1;}#sk-container-id-1 div.sk-label:hover label.sk-toggleable__label {background-color: #d4ebff;}#sk-container-id-1 div.sk-serial::before {content: \"\";position: absolute;border-left: 1px solid gray;box-sizing: border-box;top: 0;bottom: 0;left: 50%;z-index: 0;}#sk-container-id-1 div.sk-serial {display: flex;flex-direction: column;align-items: center;background-color: white;padding-right: 0.2em;padding-left: 0.2em;position: relative;}#sk-container-id-1 div.sk-item {position: relative;z-index: 1;}#sk-container-id-1 div.sk-parallel {display: flex;align-items: stretch;justify-content: center;background-color: white;position: relative;}#sk-container-id-1 div.sk-item::before, #sk-container-id-1 div.sk-parallel-item::before {content: \"\";position: absolute;border-left: 1px solid gray;box-sizing: border-box;top: 0;bottom: 0;left: 50%;z-index: -1;}#sk-container-id-1 div.sk-parallel-item {display: flex;flex-direction: column;z-index: 1;position: relative;background-color: white;}#sk-container-id-1 div.sk-parallel-item:first-child::after {align-self: flex-end;width: 50%;}#sk-container-id-1 div.sk-parallel-item:last-child::after {align-self: flex-start;width: 50%;}#sk-container-id-1 div.sk-parallel-item:only-child::after {width: 0;}#sk-container-id-1 div.sk-dashed-wrapped {border: 1px dashed gray;margin: 0 0.4em 0.5em 0.4em;box-sizing: border-box;padding-bottom: 0.4em;background-color: white;}#sk-container-id-1 div.sk-label label {font-family: monospace;font-weight: bold;display: inline-block;line-height: 1.2em;}#sk-container-id-1 div.sk-label-container {text-align: center;}#sk-container-id-1 div.sk-container {/* jupyter's `normalize.less` sets `[hidden] { display: none; }` but bootstrap.min.css set `[hidden] { display: none !important; }` so we also need the `!important` here to be able to override the default hidden behavior on the sphinx rendered scikit-learn.org. See: https://github.com/scikit-learn/scikit-learn/issues/21755 */display: inline-block !important;position: relative;}#sk-container-id-1 div.sk-text-repr-fallback {display: none;}</style><div id=\"sk-container-id-1\" class=\"sk-top-container\"><div class=\"sk-text-repr-fallback\"><pre>LabelEncoder()</pre><b>In a Jupyter environment, please rerun this cell to show the HTML representation or trust the notebook. <br />On GitHub, the HTML representation is unable to render, please try loading this page with nbviewer.org.</b></div><div class=\"sk-container\" hidden><div class=\"sk-item\"><div class=\"sk-estimator sk-toggleable\"><input class=\"sk-toggleable__control sk-hidden--visually\" id=\"sk-estimator-id-1\" type=\"checkbox\" checked><label for=\"sk-estimator-id-1\" class=\"sk-toggleable__label sk-toggleable__label-arrow\">LabelEncoder</label><div class=\"sk-toggleable__content\"><pre>LabelEncoder()</pre></div></div></div></div></div>"
      ],
      "text/plain": [
       "LabelEncoder()"
      ]
     },
     "execution_count": 32,
     "metadata": {},
     "output_type": "execute_result"
    }
   ],
   "source": [
    "from sklearn.preprocessing import LabelEncoder\n",
    "\n",
    "lab_encoder = LabelEncoder()\n",
    "lab_encoder.fit(df_train_audio['label'].unique())"
   ]
  },
  {
   "cell_type": "code",
   "execution_count": 33,
   "metadata": {
    "id": "XLc2EtfJvKuB"
   },
   "outputs": [],
   "source": [
    "import torch\n",
    "from torch import nn\n",
    "import torch.nn.functional as F\n",
    "from tqdm import tqdm"
   ]
  },
  {
   "cell_type": "code",
   "execution_count": 34,
   "metadata": {
    "id": "HwhtSIqFvWKo"
   },
   "outputs": [],
   "source": [
    "import torch\n",
    "import torch.nn as nn\n",
    "\n",
    "class SupConLoss(nn.Module):\n",
    "    \"\"\"Supervised Contrastive Learning: https://arxiv.org/pdf/2004.11362.pdf.\n",
    "    It also supports the unsupervised contrastive loss in SimCLR\"\"\"\n",
    "    def __init__(self, temperature=0.2, contrast_mode='all',\n",
    "                 base_temperature=0.2):\n",
    "        super(SupConLoss, self).__init__()\n",
    "        self.temperature = temperature\n",
    "        self.contrast_mode = contrast_mode\n",
    "        self.base_temperature = base_temperature\n",
    "\n",
    "    def forward(self, features, labels=None, mask=None, temperature=None, base_temperature=None):\n",
    "        \"\"\"Compute loss for model. If both `labels` and `mask` are None,\n",
    "        it degenerates to SimCLR unsupervised loss:\n",
    "        https://arxiv.org/pdf/2002.05709.pdf\n",
    "        Args:\n",
    "            features: hidden vector of shape [bsz, n_views, ...].\n",
    "            labels: ground truth of shape [bsz].\n",
    "            mask: contrastive mask of shape [bsz, bsz], mask_{i,j}=1 if sample j\n",
    "                has the same class as sample i. Can be asymmetric.\n",
    "        Returns:\n",
    "            A loss scalar.\n",
    "        \"\"\"\n",
    "        if temperature == None:\n",
    "            temperature = self.temperature\n",
    "        if base_temperature == None:\n",
    "            base_temperature = self.base_temperature\n",
    "        device = (torch.device('cuda')\n",
    "                  if features.is_cuda\n",
    "                  else torch.device('cpu'))\n",
    "\n",
    "        if len(features.shape) < 3:\n",
    "            raise ValueError('`features` needs to be [bsz, n_views, ...],'\n",
    "                             'at least 3 dimensions are required')\n",
    "        if len(features.shape) > 3:\n",
    "            features = features.view(features.shape[0], features.shape[1], -1)\n",
    "\n",
    "        batch_size = features.shape[0]\n",
    "        if labels is not None and mask is not None:\n",
    "            raise ValueError('Cannot define both `labels` and `mask`')\n",
    "        elif labels is None and mask is None:\n",
    "            mask = torch.eye(batch_size, dtype=torch.float32).to(device)\n",
    "        elif labels is not None:\n",
    "            labels = labels.contiguous().view(-1, 1)\n",
    "            if labels.shape[0] != batch_size:\n",
    "                raise ValueError('Num of labels does not match num of features')\n",
    "            mask = torch.eq(labels, labels.T).float().to(device)\n",
    "        else:\n",
    "            mask = mask.float().to(device)\n",
    "\n",
    "        contrast_count = features.shape[1]\n",
    "        contrast_feature = torch.cat(torch.unbind(features, dim=1), dim=0)\n",
    "        if self.contrast_mode == 'one':\n",
    "            anchor_feature = features[:, 0]\n",
    "            anchor_count = 1\n",
    "        elif self.contrast_mode == 'all':\n",
    "            anchor_feature = contrast_feature\n",
    "            anchor_count = contrast_count\n",
    "        else:\n",
    "            raise ValueError('Unknown mode: {}'.format(self.contrast_mode))\n",
    "\n",
    "        # compute logits\n",
    "        anchor_dot_contrast = torch.div(\n",
    "            torch.matmul(anchor_feature, contrast_feature.T),\n",
    "            temperature)\n",
    "        # for numerical stability\n",
    "        logits_max, _ = torch.max(anchor_dot_contrast, dim=1, keepdim=True)\n",
    "        logits = anchor_dot_contrast - logits_max.detach()\n",
    "\n",
    "        # tile mask\n",
    "        mask = mask.repeat(anchor_count, contrast_count)\n",
    "        # mask-out self-contrast cases\n",
    "        logits_mask = torch.scatter(\n",
    "            torch.ones_like(mask),\n",
    "            1,\n",
    "            torch.arange(batch_size * anchor_count).view(-1, 1).to(device),\n",
    "            0\n",
    "        )\n",
    "        mask = mask * logits_mask\n",
    "\n",
    "        # compute log_prob\n",
    "        exp_logits = torch.exp(logits) * logits_mask\n",
    "        log_prob = logits - torch.log(exp_logits.sum(1, keepdim=True))\n",
    "\n",
    "        # compute mean of log-likelihood over positive\n",
    "        mean_log_prob_pos = (mask * log_prob).sum(1) / mask.sum(1)\n",
    "\n",
    "        # loss\n",
    "        loss = - (temperature/base_temperature) * mean_log_prob_pos\n",
    "        loss = loss.view(anchor_count, batch_size).mean()\n",
    "\n",
    "        return loss"
   ]
  },
  {
   "cell_type": "code",
   "execution_count": 35,
   "metadata": {
    "id": "YJdcGkcLd7PN"
   },
   "outputs": [],
   "source": [
    "class EmbeddingPropagation(nn.Module):\n",
    "    \"\"\"Embedding Propagation\"\"\"\n",
    "    def __init__(self, in_dim=2048, emb_dim=384, graph_emb=128, k=128, num_classes=7, eps=1e-8, keep_rate=0.8, alpha=0.9):\n",
    "        super(EmbeddingPropagation, self).__init__()\n",
    "        self.k = k\n",
    "        self.keep_rate = keep_rate\n",
    "        self.num_classes = num_classes\n",
    "        self.g_enc = nn.Sequential(nn.Linear(in_dim, graph_emb), nn.GELU(), nn.Linear(graph_emb, graph_emb))\n",
    "        self.sigma_enc = nn.Sequential(nn.Linear(graph_emb, graph_emb//4), nn.GELU(), nn.Linear(graph_emb//4, 1))\n",
    "        self.eps = eps\n",
    "        self.alpha = nn.Parameter(torch.tensor([alpha]).cuda(0), requires_grad=True)\n",
    "        #self.alpha = nn.Parameter(torch.tensor([alpha]), requires_grad=True)\n",
    "\n",
    "    def graph_construction(self, inputs, k=128, keep_rate=0.6):\n",
    "        # Get Graph Embeddings\n",
    "        emb_all = self.g_enc(inputs)\n",
    "        N, d    = emb_all.shape[0], emb_all.shape[1]\n",
    "\n",
    "        self.sigmas = self.sigma_enc(emb_all)\n",
    "        \n",
    "        # Get adjacency matrix\n",
    "        emb_all_sigma = emb_all / (self.sigmas+self.eps) # N*d\n",
    "        W = torch.cdist(emb_all_sigma, emb_all_sigma)\n",
    "        W = torch.exp(-W/2)\n",
    "\n",
    "        # Keep topk nodes for neighborhood\n",
    "        _, indices = torch.topk(W, k)\n",
    "\n",
    "        mask = torch.zeros_like(W)\n",
    "        mask = mask.scatter(1, indices, 1)\n",
    "        mask = ((mask+torch.t(mask))>0).type(torch.float32)      # union, kNN graph\n",
    "        W = W * mask\n",
    "\n",
    "        # Dropout edges\n",
    "        if self.training == True and keep_rate < 1.0:\n",
    "            dropout_mask = torch.rand(*W.shape, requires_grad=True).cuda() < self.keep_rate\n",
    "            #dropout_mask = torch.rand(*W.shape, requires_grad=True) < self.keep_rate\n",
    "            W = W * dropout_mask\n",
    "            \n",
    "        # Graph Adjacency matrix normalization\n",
    "        D = W.sum(0)\n",
    "        D_sqrt_inv = torch.sqrt(1.0/(D+self.eps))\n",
    "        D1 = torch.unsqueeze(D_sqrt_inv,1).repeat(1,N)\n",
    "        D2 = torch.unsqueeze(D_sqrt_inv,0).repeat(N,1)\n",
    "        S = D1*W*D2\n",
    "\n",
    "        return S\n",
    "\n",
    "    def forward(self, inputs):\n",
    "\n",
    "        N = inputs.shape[0]\n",
    "\n",
    "        S = self.graph_construction(inputs, k=self.k, keep_rate=self.keep_rate)\n",
    "        x = torch.matmul(self.alpha*torch.inverse(torch.eye(N).cuda(0)-(1.0-self.alpha)*S + self.eps), inputs)\n",
    "\n",
    "        return x, S"
   ]
  },
  {
   "cell_type": "code",
   "execution_count": 36,
   "metadata": {
    "id": "iT82IbRP8bW1"
   },
   "outputs": [],
   "source": [
    "#text_enc"
   ]
  },
  {
   "cell_type": "code",
   "execution_count": 37,
   "metadata": {
    "colab": {
     "base_uri": "https://localhost:8080/"
    },
    "id": "8Dt-ndce4egY",
    "outputId": "e7244420-5c1b-4daa-fdd1-a2a919acb865"
   },
   "outputs": [],
   "source": [
    "#!pip install transformers\n",
    "from transformers import AutoTokenizer, AutoModel\n",
    "\n",
    "class TextEncoder(nn.Module):\n",
    "\n",
    "    def __init__(self, model_name, max_len):\n",
    "        super(TextEncoder, self).__init__()\n",
    "\n",
    "        self.max_len = max_len\n",
    "        self.tokenizer = AutoTokenizer.from_pretrained(model_name)\n",
    "        _ = self.tokenizer.add_tokens(['[NAME]', '[RELIGION]'], special_tokens=True)\n",
    "        self.encoder = AutoModel.from_pretrained(model_name)\n",
    "        self.encoder.resize_token_embeddings(len(self.tokenizer))\n",
    "        #self.encoder = text_enc\n",
    " \n",
    "    def forward(self, sentences):\n",
    "\n",
    "        x = self.tokenizer(sentences, padding='max_length', truncation=True, return_tensors='pt', max_length=self.max_len)\n",
    "        x = {\n",
    "            \"input_ids\":x[\"input_ids\"].to(0),\n",
    "            \"attention_mask\":x[\"attention_mask\"].to(0)\n",
    "        }\n",
    "        x = self.encoder(**x)[0]\n",
    "        x = x[:, 0, :]\n",
    "\n",
    "        return x"
   ]
  },
  {
   "cell_type": "code",
   "execution_count": 38,
   "metadata": {
    "id": "WMjvlQnYBpZj"
   },
   "outputs": [],
   "source": [
    "#model_text = TextEncoder('sentence-transformers/paraphrase-MiniLM-L3-v2', max_len=60)\n",
    "#model_text.to(0)\n",
    "#model_text([\"hello everyone\", \"i am a person ok\"]).shape"
   ]
  },
  {
   "cell_type": "code",
   "execution_count": 39,
   "metadata": {
    "id": "DFaFOTV46ukK"
   },
   "outputs": [],
   "source": [
    "import torch\n",
    "import librosa\n",
    "from transformers import Wav2Vec2ForSequenceClassification, Wav2Vec2FeatureExtractor\n",
    "import torchaudio\n",
    "import numpy as np\n",
    "from tqdm import tqdm\n",
    "\n",
    "def load_audio(path):\n",
    "    wavform, _ = torchaudio.load(path)\n",
    "    output = torch.mean(wavform, dim=0)\n",
    "    return np.array(output, dtype=float)\n",
    "\n",
    "class AudioEncoder(nn.Module):\n",
    "\n",
    "    def __init__(self, model_name):\n",
    "        super(AudioEncoder, self).__init__()\n",
    "        self.encoder = Wav2Vec2ForSequenceClassification.from_pretrained(model_name, output_hidden_states=True)\n",
    "        self.feature_extractor = Wav2Vec2FeatureExtractor.from_pretrained(model_name)\n",
    " \n",
    "    def forward(self, audio_paths):\n",
    "        \n",
    "        audios = list(map(load_audio, audio_paths))\n",
    "        \n",
    "        inputs = self.feature_extractor(audios, sampling_rate=16000, padding=True, return_tensors=\"pt\")\n",
    "        \n",
    "        input_values = inputs[\"input_values\"].to(0)\n",
    "        x = torch.mean(self.encoder(input_values=input_values).hidden_states[-1], dim=1)\n",
    "        return x"
   ]
  },
  {
   "cell_type": "markdown",
   "metadata": {
    "id": "fe3Ck1R-GF2g"
   },
   "source": [
    "## MFCC Extractor and KMeans Hidden units"
   ]
  },
  {
   "cell_type": "code",
   "execution_count": 40,
   "metadata": {
    "id": "4hrurRZvfykX"
   },
   "outputs": [],
   "source": [
    "import torch\n",
    "import librosa\n",
    "from transformers import Wav2Vec2ForSequenceClassification, Wav2Vec2FeatureExtractor\n",
    "import torchaudio\n",
    "import numpy as np\n",
    "from tqdm import tqdm\n",
    "import functools\n",
    "import math\n",
    "\n",
    "def get_feats(x, sr):\n",
    "    #x = torch.from_numpy(x).float()\n",
    "    x = x.view(1, -1)\n",
    "\n",
    "    mfccs = torchaudio.compliance.kaldi.mfcc(\n",
    "        waveform=x,\n",
    "        sample_frequency=sr,\n",
    "        use_energy=True,\n",
    "    )  # (time, freq)\n",
    "    mfccs = mfccs.transpose(0, 1)  # (freq, time)\n",
    "    deltas = torchaudio.functional.compute_deltas(mfccs)\n",
    "    ddeltas = torchaudio.functional.compute_deltas(deltas)\n",
    "    concat = torch.cat([mfccs, deltas, ddeltas], dim=0)\n",
    "    concat = concat.transpose(0, 1).contiguous()  # (freq, time)\n",
    "    return concat\n",
    "\n",
    "def mfcc_feature_extractor(path, desired_sr=16000):\n",
    "    #with torch.no_grad():\n",
    "    waveform, sample_rate = torchaudio.load(path, normalize=True, channels_first=True)\n",
    "    if len(waveform.shape) == 2:\n",
    "        waveform = torch.mean(waveform, dim=0).unsqueeze(dim=0)\n",
    "    \n",
    "    if sample_rate != desired_sr:\n",
    "        transform = torchaudio.transforms.Resample(sample_rate, desired_sr)\n",
    "        waveform = transform(waveform)\n",
    "\n",
    "    mfcc = get_feats(waveform, desired_sr)\n",
    "    return mfcc"
   ]
  },
  {
   "cell_type": "code",
   "execution_count": 41,
   "metadata": {
    "id": "FclICR0xGcaV"
   },
   "outputs": [],
   "source": [
    "def get_data_cluster(path):\n",
    "    mfcc_audio = mfcc_feature_extractor(path)\n",
    "    return mfcc_audio"
   ]
  },
  {
   "cell_type": "code",
   "execution_count": 42,
   "metadata": {
    "colab": {
     "base_uri": "https://localhost:8080/"
    },
    "id": "0zERIAoGKOUH",
    "outputId": "62269105-5a5b-4b13-aaf0-5df31893f725"
   },
   "outputs": [
    {
     "data": {
      "text/plain": [
       "torch.Size([276, 39])"
      ]
     },
     "execution_count": 42,
     "metadata": {},
     "output_type": "execute_result"
    }
   ],
   "source": [
    "get_data_cluster(\"./audio/audio_emo/tess.woman.sad.6.wav\").shape"
   ]
  },
  {
   "cell_type": "code",
   "execution_count": 43,
   "metadata": {
    "id": "w6tSMSzsGzrC"
   },
   "outputs": [],
   "source": [
    "X = torch.cat(list(map(get_data_cluster, df_train_audio[\"path\"])), dim=0)"
   ]
  },
  {
   "cell_type": "code",
   "execution_count": 44,
   "metadata": {
    "colab": {
     "base_uri": "https://localhost:8080/"
    },
    "id": "qAannMwWIpfe",
    "outputId": "6962c593-7666-4704-aea4-5fa3eff441b9"
   },
   "outputs": [
    {
     "data": {
      "text/plain": [
       "torch.Size([8176936, 39])"
      ]
     },
     "execution_count": 44,
     "metadata": {},
     "output_type": "execute_result"
    }
   ],
   "source": [
    "X.shape"
   ]
  },
  {
   "cell_type": "code",
   "execution_count": 45,
   "metadata": {
    "id": "M9tVGFOAHQFl"
   },
   "outputs": [],
   "source": [
    "from sklearn.cluster import MiniBatchKMeans\n",
    "N_CLUSTERS = 200\n",
    "kmeans = MiniBatchKMeans(n_clusters=N_CLUSTERS,\n",
    "                          random_state=0,\n",
    "                          batch_size=2048,\n",
    "                          max_iter=4000,\n",
    "                          n_init=3).fit(X)"
   ]
  },
  {
   "cell_type": "code",
   "execution_count": 46,
   "metadata": {
    "id": "IYck87IAcPFh"
   },
   "outputs": [],
   "source": [
    "#import pickle\n",
    "#pickle.dump(kmeans, open(\"/content/drive/MyDrive/c4ai_audio_text_clip_model/kmeans_100_clusters.pkl\", 'wb'))"
   ]
  },
  {
   "cell_type": "markdown",
   "metadata": {
    "id": "zFM4nzqrTClU"
   },
   "source": [
    "## Add mask to Transformer, try learned positional embeddings"
   ]
  },
  {
   "cell_type": "code",
   "execution_count": 47,
   "metadata": {
    "id": "qcY4vbMgKBHD"
   },
   "outputs": [],
   "source": [
    "class PositionalEncoding(nn.Module):\n",
    "\n",
    "    def __init__(self, d_model: int, dropout: float = 0.1, max_len: int = 5000):\n",
    "        super().__init__()\n",
    "        self.dropout = nn.Dropout(p=dropout)\n",
    "\n",
    "        position = torch.arange(max_len).unsqueeze(1)\n",
    "        div_term = torch.exp(torch.arange(0, d_model, 2) * (-math.log(10000.0) / d_model))\n",
    "        pe = torch.zeros(max_len, 1, d_model)\n",
    "        pe[:, 0, 0::2] = torch.sin(position * div_term)\n",
    "        pe[:, 0, 1::2] = torch.cos(position * div_term)\n",
    "        self.register_buffer('pe', pe)\n",
    "\n",
    "    def forward(self, x: torch.Tensor) -> torch.Tensor:\n",
    "        \"\"\"\n",
    "        Args:\n",
    "            x: Tensor, shape [seq_len, batch_size, embedding_dim]\n",
    "        \"\"\"\n",
    "        x = x + self.pe[:x.size(0)]\n",
    "        return self.dropout(x)\n",
    "\n",
    "class AudioEncoderMFCCHU(nn.Module):\n",
    "\n",
    "    def __init__(self, clusterization_model, emb_size=N_CLUSTERS+1, pad_idx=N_CLUSTERS, emb_dim=384, n_layers=3, padd_trunk=300, nheads=8, dropout=0.1):\n",
    "        super(AudioEncoderMFCCHU, self).__init__()\n",
    "\n",
    "        self.clusterization_model = clusterization_model\n",
    "        self.embedding = nn.Embedding(emb_size, emb_dim, max_norm=True, padding_idx=pad_idx)\n",
    "        self.emb_size = emb_size\n",
    "        self.padd_trunk = padd_trunk\n",
    "        self.pad_idx = pad_idx\n",
    "        self.pos_encoder = PositionalEncoding(emb_dim, dropout)\n",
    "        self.emb_dim = emb_dim\n",
    "\n",
    "        self.transf_layer = nn.TransformerEncoderLayer(d_model=emb_dim, nhead=nheads)\n",
    "        self.transf_enc = nn.TransformerEncoder(self.transf_layer, num_layers=n_layers, norm=nn.LayerNorm(emb_dim))\n",
    "\n",
    "\n",
    "    def preprocess_audio(self, path):\n",
    "        mfcc = mfcc_feature_extractor(path)\n",
    "        token_ids = torch.Tensor(self.clusterization_model.predict(mfcc)).long().to(0)\n",
    "        if len(token_ids) >= self.padd_trunk:\n",
    "            token_ids = token_ids[:self.padd_trunk]\n",
    "        else:\n",
    "            repeat = torch.Tensor([self.pad_idx]*(self.padd_trunk-len(token_ids))).long().to(0)\n",
    "            token_ids = torch.cat([token_ids,repeat], dim=0)\n",
    "        \n",
    "        return token_ids.unsqueeze(dim=0)\n",
    "\n",
    "    def forward(self, audio_paths):\n",
    "        \n",
    "        with torch.no_grad():\n",
    "            tokens = list(map(self.preprocess_audio, audio_paths))\n",
    "            tks_tensor = torch.cat(tokens, axis=0) #.to(0)\n",
    "            assert len(tks_tensor) == len(audio_paths)\n",
    "        \n",
    "        tks_tensor_lens = 1/torch.sum(tks_tensor != self.pad_idx, dim=-1)\n",
    "        tks_tensor_lens = tks_tensor_lens.unsqueeze(dim=0).T\n",
    "\n",
    "        emb = self.embedding(tks_tensor) * math.sqrt(self.emb_dim)\n",
    "        emb = self.pos_encoder(emb)\n",
    "\n",
    "        x = self.transf_enc(emb)\n",
    "        #x = x[:,0,:]\n",
    "        x = tks_tensor_lens*torch.sum(x, dim=1)\n",
    "        return x"
   ]
  },
  {
   "cell_type": "code",
   "execution_count": 48,
   "metadata": {
    "id": "qF_wqYKQRO5_"
   },
   "outputs": [],
   "source": [
    "#ss (2x1) * (2x384)"
   ]
  },
  {
   "cell_type": "code",
   "execution_count": 49,
   "metadata": {
    "colab": {
     "base_uri": "https://localhost:8080/"
    },
    "id": "QbF5h0dKbXqN",
    "outputId": "132cd453-b46c-4cee-a23e-91ffb21c7e45"
   },
   "outputs": [
    {
     "data": {
      "text/plain": [
       "AudioEncoderMFCCHU(\n",
       "  (embedding): Embedding(201, 384, padding_idx=200, max_norm=True)\n",
       "  (pos_encoder): PositionalEncoding(\n",
       "    (dropout): Dropout(p=0.1, inplace=False)\n",
       "  )\n",
       "  (transf_layer): TransformerEncoderLayer(\n",
       "    (self_attn): MultiheadAttention(\n",
       "      (out_proj): NonDynamicallyQuantizableLinear(in_features=384, out_features=384, bias=True)\n",
       "    )\n",
       "    (linear1): Linear(in_features=384, out_features=2048, bias=True)\n",
       "    (dropout): Dropout(p=0.1, inplace=False)\n",
       "    (linear2): Linear(in_features=2048, out_features=384, bias=True)\n",
       "    (norm1): LayerNorm((384,), eps=1e-05, elementwise_affine=True)\n",
       "    (norm2): LayerNorm((384,), eps=1e-05, elementwise_affine=True)\n",
       "    (dropout1): Dropout(p=0.1, inplace=False)\n",
       "    (dropout2): Dropout(p=0.1, inplace=False)\n",
       "  )\n",
       "  (transf_enc): TransformerEncoder(\n",
       "    (layers): ModuleList(\n",
       "      (0-2): 3 x TransformerEncoderLayer(\n",
       "        (self_attn): MultiheadAttention(\n",
       "          (out_proj): NonDynamicallyQuantizableLinear(in_features=384, out_features=384, bias=True)\n",
       "        )\n",
       "        (linear1): Linear(in_features=384, out_features=2048, bias=True)\n",
       "        (dropout): Dropout(p=0.1, inplace=False)\n",
       "        (linear2): Linear(in_features=2048, out_features=384, bias=True)\n",
       "        (norm1): LayerNorm((384,), eps=1e-05, elementwise_affine=True)\n",
       "        (norm2): LayerNorm((384,), eps=1e-05, elementwise_affine=True)\n",
       "        (dropout1): Dropout(p=0.1, inplace=False)\n",
       "        (dropout2): Dropout(p=0.1, inplace=False)\n",
       "      )\n",
       "    )\n",
       "    (norm): LayerNorm((384,), eps=1e-05, elementwise_affine=True)\n",
       "  )\n",
       ")"
      ]
     },
     "execution_count": 49,
     "metadata": {},
     "output_type": "execute_result"
    }
   ],
   "source": [
    "model_audio = AudioEncoderMFCCHU(kmeans)\n",
    "model_audio.to(0)"
   ]
  },
  {
   "cell_type": "code",
   "execution_count": 50,
   "metadata": {
    "id": "a8IxTlTC-6bZ"
   },
   "outputs": [],
   "source": [
    "#model_audio = AudioEncoderMFCCHU(kmeans)\n",
    "#model_audio.to(0)"
   ]
  },
  {
   "cell_type": "code",
   "execution_count": 51,
   "metadata": {
    "colab": {
     "base_uri": "https://localhost:8080/"
    },
    "id": "dO9OUz8A_F4d",
    "outputId": "86c40bc5-3565-440b-d068-4a8142029827"
   },
   "outputs": [
    {
     "name": "stdout",
     "output_type": "stream",
     "text": [
      "torch.Size([2, 384])\n"
     ]
    }
   ],
   "source": [
    "with torch.no_grad():\n",
    "    print(model_audio([\"./audio/audio_emo/tess.woman.sad.6.wav\", \"./audio/audio_emo/tess.woman.sad.98.wav\"]).shape)"
   ]
  },
  {
   "cell_type": "code",
   "execution_count": 52,
   "metadata": {
    "id": "8fN34Rp6Xp62"
   },
   "outputs": [],
   "source": [
    "#model_audio([\"./audio/audio_emo/tess.woman.sad.6.wav\", \"./audio/audio_emo/tess.woman.sad.98.wav\"]).shape"
   ]
  },
  {
   "cell_type": "code",
   "execution_count": 53,
   "metadata": {
    "id": "jjDqzpKABitd"
   },
   "outputs": [],
   "source": [
    "#sss"
   ]
  },
  {
   "cell_type": "code",
   "execution_count": 54,
   "metadata": {
    "id": "lrWxaBhPvOgO"
   },
   "outputs": [],
   "source": [
    "class AudioTextCLIP(nn.Module):\n",
    "\n",
    "    def __init__(self, text_encoder, audio_encoder, freeze_text_enc=False, freeze_audio_enc=False, in_features_text=384, in_features_audio=16, proj_size=128, rate=0.1, hidden_size=384, num_classes=7, use_graph_aug=False):\n",
    "        super(AudioTextCLIP, self).__init__()\n",
    "\n",
    "        self.audio_encoder = audio_encoder\n",
    "        self.text_encoder = text_encoder\n",
    "\n",
    "        if freeze_text_enc:\n",
    "            for i, (name, param) in enumerate(list(self.text_encoder.named_parameters())):\n",
    "                param.requires_grad = False\n",
    "        \n",
    "        if freeze_audio_enc:\n",
    "            for i, (name, param) in enumerate(list(self.audio_encoder.named_parameters())):\n",
    "                param.requires_grad = False\n",
    "\n",
    "        self.use_graph_aug = use_graph_aug\n",
    "        if use_graph_aug:\n",
    "            self.graph_enc = EmbeddingPropagation(in_dim=hidden_size)\n",
    "        self.proj = nn.Linear(hidden_size, proj_size)\n",
    "        self.linear1 = nn.Linear(hidden_size, hidden_size)\n",
    "        self.linear2 = nn.Linear(hidden_size, hidden_size)\n",
    "        self.rate = rate\n",
    "\n",
    "        self.text_proj = nn.Sequential(nn.Linear(in_features_text, hidden_size), nn.GELU(), nn.Linear(hidden_size, hidden_size))\n",
    "        self.audio_proj = nn.Sequential(nn.Linear(in_features_audio, hidden_size), nn.GELU(), nn.Linear(hidden_size, hidden_size))\n",
    "        self.mods_proj = lambda x: x\n",
    " \n",
    "    def forward(self, inp):\n",
    "\n",
    "        sentences, audio_paths = inp\n",
    "\n",
    "        if sentences != None and audio_paths != None:\n",
    "            text_emb = self.text_encoder(sentences)\n",
    "            audio_emb = self.audio_encoder(audio_paths)\n",
    "            x = torch.cat([self.mods_proj(self.text_proj(text_emb)), self.mods_proj(self.audio_proj(audio_emb))], dim=0)\n",
    "        elif sentences != None:\n",
    "            text_emb = self.text_encoder(sentences)\n",
    "            x = self.mods_proj(self.text_proj(text_emb))\n",
    "        else:\n",
    "            audio_emb = self.audio_encoder(audio_paths)\n",
    "            x = self.mods_proj(self.audio_proj(audio_emb))\n",
    "\n",
    "        # Graph Creation\n",
    "        if self.use_graph_aug:\n",
    "            x_neighboor_info, A = self.graph_enc(x)\n",
    "\n",
    "        # Projection without neighboor info\n",
    "        x1 = F.gelu(self.linear1(F.dropout(x, p=self.rate, training=self.training)))\n",
    "        x1 = self.linear2(x1)\n",
    "        x1 = F.normalize(x1, dim=-1)\n",
    "        x1 = F.normalize(self.proj(x1), dim=-1)\n",
    "\n",
    "        # Projection with neighboor info\n",
    "        if self.use_graph_aug:\n",
    "            x2 = F.gelu(self.linear1(F.dropout(x_neighboor_info, p=self.rate, training=self.training)))\n",
    "        else:\n",
    "            x2 = F.gelu(self.linear1(F.dropout(x, p=self.rate, training=self.training)))\n",
    "        clf_emb = self.linear2(x2)\n",
    "        x2 = F.normalize(clf_emb, dim=-1)\n",
    "        x2 = F.normalize(self.proj(x2), dim=-1)\n",
    "\n",
    "        if self.use_graph_aug:\n",
    "            return x1, x2, clf_emb, A\n",
    "        else:\n",
    "            return x1, x2, clf_emb, None"
   ]
  },
  {
   "cell_type": "code",
   "execution_count": 55,
   "metadata": {
    "colab": {
     "base_uri": "https://localhost:8080/"
    },
    "id": "DkxAazkcg1wU",
    "outputId": "05e3d08b-01e8-4434-ca81-4b5601ce81dc"
   },
   "outputs": [
    {
     "name": "stdout",
     "output_type": "stream",
     "text": [
      "43410 25212 5427 2337\n"
     ]
    }
   ],
   "source": [
    "print(len(train_text), len(df_train_audio), len(test_text), len(df_dev_audio))"
   ]
  },
  {
   "cell_type": "code",
   "execution_count": 56,
   "metadata": {
    "colab": {
     "base_uri": "https://localhost:8080/"
    },
    "id": "jmTJQwJnKCpm",
    "outputId": "98fda290-0e16-496e-a569-37b3cca3af14"
   },
   "outputs": [
    {
     "data": {
      "text/plain": [
       "array(['neutral', 'sadness', 'anger', 'joy', 'surprise', 'fear',\n",
       "       'disgust'], dtype=object)"
      ]
     },
     "execution_count": 56,
     "metadata": {},
     "output_type": "execute_result"
    }
   ],
   "source": [
    "df_train_audio['label'].unique()"
   ]
  },
  {
   "cell_type": "code",
   "execution_count": 57,
   "metadata": {
    "id": "zBvA4nZwFIKV"
   },
   "outputs": [],
   "source": [
    "train_audio_repeated = pd.concat([df_train_audio, df_train_audio,df_train_audio,df_train_audio,df_train_audio,df_train_audio,df_train_audio, df_train_audio,df_train_audio,df_train_audio,df_train_audio,df_train_audio], axis=0).sample(frac=1).reset_index(drop=True)\n",
    "test_audio_repeated = pd.concat([df_dev_audio, df_dev_audio,df_dev_audio,df_dev_audio,df_dev_audio,df_dev_audio], axis=0).sample(frac=1).reset_index(drop=True)\n",
    "\n",
    "train_ds = torch.utils.data.TensorDataset(torch.Tensor(list(range(len(train_text)))))\n",
    "train_loader = torch.utils.data.DataLoader(train_ds, batch_size=768, shuffle=True)\n",
    "\n",
    "test_ds = torch.utils.data.TensorDataset(torch.Tensor(list(range(len(test_text)))))\n",
    "test_loader = torch.utils.data.DataLoader(test_ds, batch_size=256, shuffle=False)"
   ]
  },
  {
   "cell_type": "code",
   "execution_count": 58,
   "metadata": {
    "id": "mgxhTtXERPes"
   },
   "outputs": [],
   "source": [
    "#gc.collect()"
   ]
  },
  {
   "cell_type": "code",
   "execution_count": 59,
   "metadata": {
    "id": "hRI8ck7D7BzB"
   },
   "outputs": [],
   "source": [
    "#gc.collect()"
   ]
  },
  {
   "cell_type": "code",
   "execution_count": 60,
   "metadata": {
    "id": "b32SE_K1MH38"
   },
   "outputs": [],
   "source": [
    "import torchaudio\n",
    "import numpy as np\n",
    "from sklearn.manifold import TSNE\n",
    "import seaborn as sns\n",
    "import matplotlib.pyplot as plt\n",
    "from sklearn.svm import SVC\n",
    "from sklearn.metrics import f1_score, accuracy_score\n",
    "import gc\n",
    "from sklearn.linear_model import LogisticRegression\n",
    "from sklearn.neighbors import KNeighborsClassifier\n",
    "gc.enable()"
   ]
  },
  {
   "cell_type": "code",
   "execution_count": 61,
   "metadata": {
    "colab": {
     "base_uri": "https://localhost:8080/"
    },
    "id": "k0ogRQkVoSv8",
    "outputId": "3da4fdbf-b45e-44b8-cff5-2c9b857cdf99"
   },
   "outputs": [],
   "source": [
    "\n",
    "#!pip install faiss-cpu --no-cache"
   ]
  },
  {
   "cell_type": "code",
   "execution_count": 62,
   "metadata": {},
   "outputs": [],
   "source": [
    "#!sudo apt install libomp-dev"
   ]
  },
  {
   "cell_type": "code",
   "execution_count": 63,
   "metadata": {
    "id": "9w-KtELjM3BN"
   },
   "outputs": [],
   "source": [
    "import numpy as np\n",
    "import faiss\n",
    "\n",
    "\n",
    "class FaissKNeighbors:\n",
    "    def __init__(self, k=5):\n",
    "        self.index = None\n",
    "        self.y = None\n",
    "        self.k = k\n",
    "\n",
    "    def fit(self, X, y):\n",
    "        self.index = faiss.IndexFlatL2(X.shape[1])\n",
    "        self.index.add(X.astype(np.float32))\n",
    "        self.y = y\n",
    "\n",
    "    def predict(self, X):\n",
    "        distances, indices = self.index.search(X.astype(np.float32), k=self.k)\n",
    "        votes = self.y[indices]\n",
    "        predictions = np.array([np.argmax(np.bincount(x)) for x in votes])\n",
    "        return predictions"
   ]
  },
  {
   "cell_type": "code",
   "execution_count": 64,
   "metadata": {
    "scrolled": true
   },
   "outputs": [],
   "source": [
    "#torch.cuda.empty_cache()\n",
    "#opt.zero_grad(set_to_none=True)\n",
    "#del opt\n",
    "#gc.collect()\n",
    "#del supcon_model"
   ]
  },
  {
   "cell_type": "code",
   "execution_count": null,
   "metadata": {
    "colab": {
     "base_uri": "https://localhost:8080/",
     "height": 1000,
     "referenced_widgets": [
      "5341a0d3bcaa4f44a3bc1673411b8135",
      "3fad1ce87a9f4b1baad4c056bd76d0ad",
      "3f40ded8f3884d468803b5cbb92d04af",
      "b272914175c14c5494bbd466ced2c24c",
      "7952be014e164b07ab81898a97fbc331",
      "98b25709d1f34983bf771a1bbd3dae3d",
      "bcfbcdafd7dd4d77a26037458e909fe5",
      "b47e5878d64c40519b6cb51321b90f62",
      "ef30cb62a33341cfa92780794e578fa8",
      "7506d573de6c4844bbf5f4af7947424b",
      "178de3d498054417b5f3661675d2deff",
      "ef6d4a9a190c411198829adc42a4e3c5",
      "ef74f18be5a940ba8696edb399e3b6f7",
      "87ef10ff662a4ea0994296b0c8577c3d",
      "104351e0f60c4dceacc51617d69cdef2",
      "b9b51ab0d78545739a420b73e0231b1d",
      "765d7438bce044758c9b1b818ede9ac4",
      "89cfc81fe5464ee9abb0a9a1a1b9d141",
      "9ca460fa5f584d9c88875eeb30eac76a",
      "b288324ff1fb4eeeb359d44cb1a40d12",
      "8d800f0793034ec29c37ac6e35ab3375",
      "5c5460fe4d344d9aaa3e87e41ca08164",
      "77d8310b1be34cf594a4731b9845e2a2",
      "862bfc472db84bfc8f031fd3a76e9809",
      "381e15620779478db7fcf1bd2d124c1b",
      "ea5c189c9660499f844a6fe3c90c59bf",
      "0b478c1f483e4fccbb6f56f002234dea",
      "d0fe5abc20594822bba649da177c106b",
      "70b8347a3a2c45b2b78a0117ec52e7ae",
      "9bf3f371933f4d328efa23edc61f9f46",
      "ffeda0d9845d4610aa25c47c14ad90f1",
      "671767bc077146a1aeed5607c971d138",
      "cf773a5a5a7c43d58957c19654160f6f",
      "7bd6fbe38ada40d5a18dcfa021326ea5",
      "9fbb36b544104cf2be8d7a6aa7cf28e1",
      "6b8ec460c2694c0ab4ed319f3d11e119",
      "93068874e3c3415bb750db3439d9cf6a",
      "bd3ced1d62224f7185d14373ad07cdff",
      "74dfc96b83f34e3c8403c192f423a6e3",
      "85f4be5ebdc94c7e8001a083a7c40154",
      "b6eba96636d54bbbbb87665595f9d96d",
      "c9532f4e341a4503abe2affac1f8e88e",
      "147da8015a5744b293df28397d0cb08c",
      "fa17642f8dcd425e87a7ea27c7782afd",
      "a41e0d7fd35c44bd80808903ea66cb61",
      "91c7531f525b4662844c113817a5bd10",
      "0b1501f7bf4a4b509267687b71bca3bb",
      "d860f362d07041228fb279ba07a48a75",
      "d135bd21ef514eeb95d91f8629bf7688",
      "563e4f1cc475402080aa71949a012f49",
      "ba6d485b3d364808894dc2336d9fd147",
      "c4dbc238f1304ecba571deabd74ff630",
      "154effefd76744f1847a4e90cd50adbe",
      "0f4366c0c2f74505b5268165f3ff15b5",
      "2ec467cae94e4f8fa22bc3d2bc563e85",
      "d6395a6be7334dc4a656a62fea25df3c",
      "b3df00cb8ab94fcf8b435765b8a9133b",
      "39e75864886e4a6c8ca47a53375d1e55",
      "bc1c88900f37416fa8ebec58ec0e8ff3",
      "9adf9f212e5945b58ff185047565bcf3",
      "6d00b5d46c58434cb2dedd09f975e504",
      "0e92d24aa67a4463843f09da7d592c94",
      "579642ddd5bf47e2861f1c7ae034f2a0",
      "a8f4bfce2b534d7b9a302ecb6986609d",
      "cbdc5f2631d94d399c00033043711360",
      "b6b140015ed746968a3f7bd4210ee5c5"
     ]
    },
    "id": "tton9xWfMTRv",
    "outputId": "1bbb0c70-8280-4c75-861a-69204da8f2ed",
    "scrolled": true
   },
   "outputs": [
    {
     "name": "stderr",
     "output_type": "stream",
     "text": [
      "100%|████████████████████████████████████████████████████████████████| 57/57 [03:35<00:00,  3.77s/it]\n",
      "/tmp/ipykernel_57640/1379911514.py:81: DeprecationWarning: `np.int` is a deprecated alias for the builtin `int`. To silence this warning, use `int` by itself. Doing this will not modify any behavior and is safe. When replacing `np.int`, you may wish to use e.g. `np.int64` or `np.int32` to specify the precision. If you wish to review your current use, check the release note link for additional information.\n",
      "Deprecated in NumPy 1.20; for more details and guidance: https://numpy.org/devdocs/release/1.20.0-notes.html#deprecations\n",
      "  clf.fit(proj_train, np.array(targets_train, dtype=np.int))\n",
      "100%|████████████████████████████████████████████████████████████████| 22/22 [00:27<00:00,  1.24s/it]\n"
     ]
    },
    {
     "name": "stdout",
     "output_type": "stream",
     "text": [
      "Text - KNN F1: 0.1356409284206297 Acc: 0.4044591855537129\n",
      "Audio - KNN F1: 0.07546821028401089 Acc: 0.14188317670904735\n",
      "General - KNN F1: 0.12754305591361792 Acc: 0.2731711811313801\n",
      "Epoch: 1 - Train Loss: 7.084063571796083\n"
     ]
    },
    {
     "name": "stderr",
     "output_type": "stream",
     "text": [
      " 56%|███████████████████████████████████▉                            | 32/57 [02:00<01:34,  3.77s/it]"
     ]
    }
   ],
   "source": [
    "use_graph_aug = False\n",
    "#torch._dynamo.config.verbose=True\n",
    "supcon_model = AudioTextCLIP(TextEncoder('sentence-transformers/paraphrase-MiniLM-L3-v2', max_len=60), \n",
    "                             model_audio, in_features_text=384, in_features_audio=384, hidden_size=512, proj_size=128, use_graph_aug=use_graph_aug)\n",
    "supcon_loss = SupConLoss(temperature=0.3, contrast_mode='all', base_temperature=0.34)\n",
    "supcon_model.to(0)\n",
    "#supcon_model = torch.compile(supcon_model)\n",
    "scaler = torch.cuda.amp.GradScaler()\n",
    "\n",
    "step = 0\n",
    "e = 0\n",
    "patience = 9999\n",
    "early_stop_flag = 0\n",
    "old_acc = -float('inf')\n",
    "opt = torch.optim.Adam(supcon_model.parameters(),lr=5e-5,betas=(0.9,0.98), eps=1e-8,weight_decay=1e-3)\n",
    "epochs = 9999\n",
    "nb_steps = 20\n",
    "\n",
    "while e < epochs:\n",
    "    supcon_model.train()\n",
    "    epoch_loss = 0.0\n",
    "    proj_val = []\n",
    "    targets_val = []\n",
    "\n",
    "    proj_train = []\n",
    "    targets_train = []\n",
    "\n",
    "    preds = []\n",
    "    support = []\n",
    "\n",
    "    for i, batch_indices in enumerate(tqdm(train_loader, total=len(train_loader))):\n",
    "\n",
    "        sentences = list(train_text.iloc[batch_indices[0]][\"text\"])\n",
    "        audio_paths = list(train_audio_repeated.iloc[batch_indices[0]][\"path\"])\n",
    "        y_text, y_audio = torch.Tensor(lab_encoder.transform(list(train_text.iloc[batch_indices[0]][\"grouped_label\"]))), torch.Tensor(lab_encoder.transform(list(train_audio_repeated.iloc[batch_indices[0]][\"label\"])))\n",
    "\n",
    "        target = torch.cat([y_text, y_audio])\n",
    "\n",
    "        x = [sentences, audio_paths]\n",
    "        \n",
    "        with torch.autocast(device_type='cuda', dtype=torch.float16):\n",
    "            out1, out2, wide, _ = supcon_model(x)\n",
    "\n",
    "            out1 = out1.unsqueeze(dim=1)\n",
    "            out2 = out2.unsqueeze(dim=1)\n",
    "            out = torch.cat([out1,out2], dim=1)\n",
    "\n",
    "            loss = supcon_loss(out, labels=target)\n",
    "\n",
    "        scaler.scale(loss).backward()\n",
    "        torch.nn.utils.clip_grad_norm_(supcon_model.parameters(), 1.0)\n",
    "        scaler.step(opt)\n",
    "        scaler.update()\n",
    "        opt.zero_grad(set_to_none=True)\n",
    "        \n",
    "        epoch_loss += loss.item()\n",
    "        proj_train.append(np.array(F.normalize(wide.detach(), dim=-1).cpu()))\n",
    "        targets_train.append(np.array(target.cpu()))\n",
    "\n",
    "        del out1\n",
    "        del out2\n",
    "        #del out\n",
    "        gc.collect()\n",
    "        torch.cuda.empty_cache()\n",
    "        #break\n",
    "\n",
    "    proj_train = np.concatenate(proj_train, axis=0)\n",
    "    targets_train = np.concatenate(targets_train, axis=0)\n",
    "\n",
    "\n",
    "    #clf = LogisticRegression(max_iter=500, random_state=None, n_jobs=8)\n",
    "    #mean = np.mean(proj_train,axis=0)\n",
    "    #std = np.std(proj_train,axis=0)\n",
    "\n",
    "    #proj_train = F.normalize(wide.cpu(), dim=-1)\n",
    "\n",
    "    #clf = KNeighborsClassifier(n_neighbors=128)\n",
    "    #clf.fit(proj_train, targets_train)\n",
    "    #clf.fit(proj_train, targets_train)\n",
    "    clf = FaissKNeighbors(k=128)\n",
    "    clf.fit(proj_train, np.array(targets_train, dtype=np.int))\n",
    "    #clf.predict(wide)\n",
    "\n",
    "    epoch_loss = epoch_loss/len(train_loader)\n",
    "    supcon_model.eval()\n",
    "    preds_audios = []\n",
    "    preds_texts = []\n",
    "    targets_audios = []\n",
    "    targets_texts = []\n",
    "    \n",
    "    for i, batch_indices in enumerate(tqdm(test_loader, total=len(test_loader))):\n",
    "        with torch.no_grad():\n",
    "\n",
    "            sentences = list(test_text.iloc[batch_indices[0]][\"text\"])\n",
    "            audio_paths = list(test_audio_repeated.iloc[batch_indices[0]][\"path\"])\n",
    "            y_text, y_audio = torch.Tensor(lab_encoder.transform(list(test_text.iloc[batch_indices[0]][\"grouped_label\"]))), torch.Tensor(lab_encoder.transform(list(test_audio_repeated.iloc[batch_indices[0]][\"label\"])))\n",
    "\n",
    "            target = torch.cat([y_text, y_audio])\n",
    "\n",
    "            x = [sentences, audio_paths]\n",
    "\n",
    "            _, _, wide, _ = supcon_model(x)\n",
    "\n",
    "            wide = np.array(F.normalize(wide.cpu(), dim=-1))\n",
    "\n",
    "            #wide = wide / np.array([np.linalg.norm(wide, ord=2, axis=1)]).T\n",
    "            \n",
    "            pred = clf.predict(wide)\n",
    "\n",
    "            preds_text = clf.predict(wide[:len(sentences)])\n",
    "            preds_audio = clf.predict(wide[len(sentences):])\n",
    "\n",
    "            assert len(wide) == len(pred)\n",
    "\n",
    "            preds.append(pred)\n",
    "            preds_audios.append(preds_audio)\n",
    "            preds_texts.append(preds_text)\n",
    "            proj_val.append(wide)\n",
    "            targets_val.append(np.array(target.cpu()))\n",
    "\n",
    "            targets_texts.append(np.array(target.cpu())[:len(sentences)])\n",
    "            targets_audios.append(np.array(target.cpu())[len(sentences):])\n",
    "\n",
    "            del x, target\n",
    "            gc.collect()\n",
    "            torch.cuda.empty_cache()\n",
    "\n",
    "    proj_val = np.concatenate(proj_val, axis=0)\n",
    "    targets_val = np.concatenate(targets_val, axis=0)\n",
    "    preds = np.array(np.concatenate(preds, axis=0))\n",
    "\n",
    "    preds_texts = np.concatenate(preds_texts, axis=0)\n",
    "    targets_texts = np.concatenate(targets_texts, axis=0)\n",
    "    preds_audios = np.concatenate(preds_audios, axis=0)\n",
    "    targets_audios = np.concatenate(targets_audios, axis=0)\n",
    "\n",
    "    audio_f1 = f1_score(targets_audios, preds_audios, average='macro')\n",
    "    audio_acc = accuracy_score(targets_audios, preds_audios)\n",
    "\n",
    "    text_f1 = f1_score(targets_texts, preds_texts, average='macro')\n",
    "    text_acc = accuracy_score(targets_texts, preds_texts)\n",
    "\n",
    "    curr_acc = f1_score(targets_val, preds, average='macro')\n",
    "    curr_acc2 = accuracy_score(targets_val, preds)\n",
    "\n",
    "    print(f'Text - KNN F1: {text_f1} Acc: {text_acc}')\n",
    "    print(f'Audio - KNN F1: {audio_f1} Acc: {audio_acc}')\n",
    "    print(f'General - KNN F1: {curr_acc} Acc: {curr_acc2}')\n",
    "    if use_graph_aug:\n",
    "        print(f\"Alpha: {float(supcon_model.state_dict()['graph_enc.alpha'].item())}\")\n",
    "\n",
    "    idx = np.random.randint(len(proj_val), size=2000)\n",
    "\n",
    "    # A[idx,:]\n",
    "    proj_val_samp = proj_val[idx, :]\n",
    "    targets_val_samp = targets_val[idx]\n",
    "    #tsne = TSNE(n_components=2, learning_rate='auto', init='pca', perplexity=5).fit_transform(proj_val_samp)\n",
    "\n",
    "    #sns.scatterplot(x=tsne[:, 0], y=tsne[:, 1], hue=targets_val_samp, palette='tab10')\n",
    "    #plt.show()\n",
    "\n",
    "    print(f'Epoch: {e + 1} - Train Loss: {epoch_loss}')\n",
    "    e += 1\n",
    "    \n",
    "    if old_acc > curr_acc:\n",
    "        early_stop_flag += 1\n",
    "    else:\n",
    "        #torch.save(supcon_model.state_dict(), f'/content/drive/MyDrive/pytorch_model_AudioTextCLIP_vSpec_epoch_{e}_with_200.bin')\n",
    "        #torch.save(supcon_model.state_dict(), '/content/drive/MyDrive/pytorch_model_AudioTextCLIP_v2.bin')\n",
    "        #torch.save(supcon_model.state_dict(), '/content/drive/MyDrive/pytorch_model_goemotions_minilm_l3.bin')\n",
    "        old_acc = curr_acc\n",
    "        early_stop_flag = 0\n",
    "    torch.save(supcon_model.state_dict(), f'./pytorch_model_AudioTextCLIPvFinal_epoch_{e}_only_meld.bin')"
   ]
  },
  {
   "cell_type": "code",
   "execution_count": null,
   "metadata": {
    "id": "F0IJvvdYd_vC"
   },
   "outputs": [],
   "source": [
    "gc.collect()"
   ]
  },
  {
   "cell_type": "code",
   "execution_count": null,
   "metadata": {
    "id": "QrZyXwxGoPds"
   },
   "outputs": [],
   "source": [
    "ss"
   ]
  },
  {
   "cell_type": "code",
   "execution_count": null,
   "metadata": {
    "id": "duQZ-rlBJY_F"
   },
   "outputs": [],
   "source": [
    "import scipy\n",
    "from collections import Counter\n",
    "\n",
    "class KNN:\n",
    "    def __init__(self, k):\n",
    "        self.k = k\n",
    "        \n",
    "    def fit(self, X, y):\n",
    "        self.X_train = X\n",
    "        self.y_train = y\n",
    "        \n",
    "    def distance(self, X1, X2):\n",
    "        distance = scipy.spatial.distance.euclidean(X1, X2)\n",
    "    \n",
    "    def predict(self, X_test):\n",
    "        final_output = []\n",
    "        for i in range(len(X_test)):\n",
    "            d = []\n",
    "            votes = []\n",
    "            for j in range(len(self.X_train)):\n",
    "                dist = scipy.spatial.distance.euclidean(self.X_train[j] , X_test[i])\n",
    "                d.append([dist, j])\n",
    "            d.sort()\n",
    "            d = d[0:self.k]\n",
    "            for d, j in d:\n",
    "                votes.append(self.y_train[j])\n",
    "            ans = Counter(votes).most_common(1)[0][0]\n",
    "            final_output.append(ans)\n",
    "            \n",
    "        return final_output\n",
    "    \n",
    "    def score(self, X_test, y_test):\n",
    "        predictions = self.predict(X_test)\n",
    "        return (predictions == y_test).sum() / len(y_test)"
   ]
  },
  {
   "cell_type": "code",
   "execution_count": null,
   "metadata": {
    "id": "v5lNzkshoOc-"
   },
   "outputs": [],
   "source": [
    "ss"
   ]
  },
  {
   "cell_type": "code",
   "execution_count": null,
   "metadata": {
    "id": "DefQRyABHgTS"
   },
   "outputs": [],
   "source": [
    "from sklearn.neighbors import KNeighborsClassifier\n",
    "import sklearn\n",
    "\n",
    "clf = KNN(k=128)\n",
    "clf.fit(proj_train, np.array(targets_train, dtype=np.int))"
   ]
  },
  {
   "cell_type": "code",
   "execution_count": null,
   "metadata": {
    "id": "CdxgFU1yHlTs"
   },
   "outputs": [],
   "source": [
    "clf.predict(wide)"
   ]
  },
  {
   "cell_type": "code",
   "execution_count": null,
   "metadata": {
    "id": "YKIQGCbVLmPP"
   },
   "outputs": [],
   "source": [
    "\n",
    "!pip install faiss"
   ]
  },
  {
   "cell_type": "code",
   "execution_count": null,
   "metadata": {
    "id": "LSvgKNOJMXJ7"
   },
   "outputs": [],
   "source": [
    "!pip install faiss-cpu --no-cache"
   ]
  },
  {
   "cell_type": "code",
   "execution_count": null,
   "metadata": {
    "id": "m1Uxp9yNMenO"
   },
   "outputs": [],
   "source": []
  },
  {
   "cell_type": "code",
   "execution_count": null,
   "metadata": {
    "id": "j0NBL8dlMj1d"
   },
   "outputs": [],
   "source": [
    "#proj_train, np.array(targets_train, dtype=np.int)\n",
    "\n",
    "clf = FaissKNeighbors(k=128)\n",
    "clf.fit(proj_train, np.array(targets_train, dtype=np.int))\n",
    "clf.predict(wide)"
   ]
  },
  {
   "cell_type": "code",
   "execution_count": null,
   "metadata": {
    "id": "wsdqsHPUI1mR"
   },
   "outputs": [],
   "source": [
    "clf.predict(wide[197].reshape(1, -1))"
   ]
  },
  {
   "cell_type": "code",
   "execution_count": null,
   "metadata": {
    "id": "hJphTKQJ8Ky5"
   },
   "outputs": [],
   "source": [
    "wide[196]"
   ]
  },
  {
   "cell_type": "code",
   "execution_count": null,
   "metadata": {
    "id": "Yi8jVkV27Qeq"
   },
   "outputs": [],
   "source": [
    "tsne = TSNE(n_components=2, learning_rate='auto', init='pca', perplexity=10).fit_transform(proj_val_samp)"
   ]
  },
  {
   "cell_type": "code",
   "execution_count": null,
   "metadata": {
    "id": "pYYwF4nv7_QQ"
   },
   "outputs": [],
   "source": [
    "proj_train.shape"
   ]
  },
  {
   "cell_type": "code",
   "execution_count": null,
   "metadata": {
    "id": "lMHtuPVOHJ0M"
   },
   "outputs": [],
   "source": [
    "wide.shape"
   ]
  },
  {
   "cell_type": "code",
   "execution_count": null,
   "metadata": {
    "id": "aSnQQfMK6zHI"
   },
   "outputs": [],
   "source": [
    "gc.collect()"
   ]
  },
  {
   "cell_type": "code",
   "execution_count": null,
   "metadata": {
    "id": "NSJrg4Hc1h2i"
   },
   "outputs": [],
   "source": [
    "np.sum(proj_train, axis=1)"
   ]
  },
  {
   "cell_type": "code",
   "execution_count": null,
   "metadata": {
    "id": "g4glB7zq6eJC"
   },
   "outputs": [],
   "source": [
    "wide.shape"
   ]
  },
  {
   "cell_type": "code",
   "execution_count": null,
   "metadata": {
    "id": "eff048ra1z1m"
   },
   "outputs": [],
   "source": [
    "np.array([np.linalg.norm(wide, ord=2, axis=1)]).T.shape"
   ]
  },
  {
   "cell_type": "code",
   "execution_count": null,
   "metadata": {
    "id": "qeVkB6nu12OQ"
   },
   "outputs": [],
   "source": [
    "np.linalg.norm(wide, ord=1, axis=1)"
   ]
  },
  {
   "cell_type": "code",
   "execution_count": null,
   "metadata": {
    "id": "cAhbCPgIIkFT"
   },
   "outputs": [],
   "source": [
    "ss"
   ]
  },
  {
   "cell_type": "code",
   "execution_count": null,
   "metadata": {
    "id": "dG7thcFDArNk"
   },
   "outputs": [],
   "source": [
    "#torch.save(supcon_model.state_dict(), '/content/drive/MyDrive/pytorch_model_AudioTextCLIP_v2_1.bin')"
   ]
  },
  {
   "cell_type": "code",
   "execution_count": null,
   "metadata": {
    "id": "_IU9dQmJ4-gU"
   },
   "outputs": [],
   "source": [
    "supcon_model.load_state_dict(torch.load('/content/drive/MyDrive/pytorch_model_AudioTextCLIP.bin'))"
   ]
  },
  {
   "cell_type": "code",
   "execution_count": null,
   "metadata": {
    "id": "7FlMSn326Ws6"
   },
   "outputs": [],
   "source": [
    "test = supcon_model([[\"I Hate you, i believe you are shit!\", \"you are my best friend, love you!\"],None])[2]\n",
    "torch.dot(F.normalize(test[0, :], dim=0), F.normalize(test[1, :], dim=0))"
   ]
  },
  {
   "cell_type": "code",
   "execution_count": null,
   "metadata": {
    "id": "xZTR2bjv6rwC"
   },
   "outputs": [],
   "source": [
    "test = supcon_model([[\"The best man ever, keep the good work!\", \"you are my best friend, love you!\"],None])[2]\n",
    "torch.dot(F.normalize(test[0, :], dim=0), F.normalize(test[1, :], dim=0))"
   ]
  },
  {
   "cell_type": "code",
   "execution_count": null,
   "metadata": {
    "id": "CozRdOGE7EB6"
   },
   "outputs": [],
   "source": [
    "test = supcon_model([[\"I Hate you, i believe you are shit!\", \"you should not be alive\"],None])[2]\n",
    "torch.dot(F.normalize(test[0, :], dim=0), F.normalize(test[1, :], dim=0))"
   ]
  },
  {
   "cell_type": "code",
   "execution_count": null,
   "metadata": {
    "id": "kV86Kbla748i"
   },
   "outputs": [],
   "source": []
  },
  {
   "cell_type": "code",
   "execution_count": null,
   "metadata": {
    "id": "4penrPfHmmeu"
   },
   "outputs": [],
   "source": [
    "#torch.save(supcon_model.state_dict(), '/content/drive/MyDrive/pytorch_model_AudioTextCLIP.bin')"
   ]
  },
  {
   "cell_type": "markdown",
   "metadata": {
    "id": "6DtSUiICtIn1"
   },
   "source": [
    "https://arxiv.org/pdf/1410.6903.pdf"
   ]
  },
  {
   "cell_type": "code",
   "execution_count": null,
   "metadata": {
    "id": "HyLdjR7AtIPe"
   },
   "outputs": [],
   "source": []
  },
  {
   "cell_type": "code",
   "execution_count": null,
   "metadata": {
    "id": "QxmfGOHlbzsh"
   },
   "outputs": [],
   "source": [
    "proj_val.shape"
   ]
  },
  {
   "cell_type": "code",
   "execution_count": null,
   "metadata": {
    "id": "tRbbiWWQb-UY"
   },
   "outputs": [],
   "source": [
    "targets_val.shape"
   ]
  },
  {
   "cell_type": "code",
   "execution_count": null,
   "metadata": {
    "id": "R7chGOnYWtQ9"
   },
   "outputs": [],
   "source": [
    "patrickvonplaten/tiny-wav2vec2-no-tokenizer"
   ]
  },
  {
   "cell_type": "code",
   "execution_count": null,
   "metadata": {
    "id": "BlpD0fYUW1Jo"
   },
   "outputs": [],
   "source": [
    "!pip install transformers"
   ]
  },
  {
   "cell_type": "code",
   "execution_count": null,
   "metadata": {
    "id": "YRuMH3OcWyqu"
   },
   "outputs": [],
   "source": [
    "from transformers import Wav2Vec2ForSequenceClassification, Wav2Vec2FeatureExtractor"
   ]
  },
  {
   "cell_type": "code",
   "execution_count": null,
   "metadata": {
    "id": "WaQLJ59RWv0G"
   },
   "outputs": [],
   "source": [
    "model = Wav2Vec2ForSequenceClassification.from_pretrained(\"patrickvonplaten/tiny-wav2vec2-no-tokenizer\")\n",
    "feature_extractor = Wav2Vec2FeatureExtractor.from_pretrained(\"patrickvonplaten/tiny-wav2vec2-no-tokenizer\")"
   ]
  },
  {
   "cell_type": "code",
   "execution_count": null,
   "metadata": {
    "id": "EEBjAScCXeC1"
   },
   "outputs": [],
   "source": [
    "model"
   ]
  }
 ],
 "metadata": {
  "accelerator": "GPU",
  "colab": {
   "provenance": []
  },
  "gpuClass": "premium",
  "kernelspec": {
   "display_name": "Python 3 (ipykernel)",
   "language": "python",
   "name": "python3"
  },
  "language_info": {
   "codemirror_mode": {
    "name": "ipython",
    "version": 3
   },
   "file_extension": ".py",
   "mimetype": "text/x-python",
   "name": "python",
   "nbconvert_exporter": "python",
   "pygments_lexer": "ipython3",
   "version": "3.10.10"
  },
  "widgets": {
   "application/vnd.jupyter.widget-state+json": {
    "0b1501f7bf4a4b509267687b71bca3bb": {
     "model_module": "@jupyter-widgets/controls",
     "model_module_version": "1.5.0",
     "model_name": "FloatProgressModel",
     "state": {
      "_dom_classes": [],
      "_model_module": "@jupyter-widgets/controls",
      "_model_module_version": "1.5.0",
      "_model_name": "FloatProgressModel",
      "_view_count": null,
      "_view_module": "@jupyter-widgets/controls",
      "_view_module_version": "1.5.0",
      "_view_name": "ProgressView",
      "bar_style": "success",
      "description": "",
      "description_tooltip": null,
      "layout": "IPY_MODEL_c4dbc238f1304ecba571deabd74ff630",
      "max": 112,
      "min": 0,
      "orientation": "horizontal",
      "style": "IPY_MODEL_154effefd76744f1847a4e90cd50adbe",
      "value": 112
     }
    },
    "0b478c1f483e4fccbb6f56f002234dea": {
     "model_module": "@jupyter-widgets/base",
     "model_module_version": "1.2.0",
     "model_name": "LayoutModel",
     "state": {
      "_model_module": "@jupyter-widgets/base",
      "_model_module_version": "1.2.0",
      "_model_name": "LayoutModel",
      "_view_count": null,
      "_view_module": "@jupyter-widgets/base",
      "_view_module_version": "1.2.0",
      "_view_name": "LayoutView",
      "align_content": null,
      "align_items": null,
      "align_self": null,
      "border": null,
      "bottom": null,
      "display": null,
      "flex": null,
      "flex_flow": null,
      "grid_area": null,
      "grid_auto_columns": null,
      "grid_auto_flow": null,
      "grid_auto_rows": null,
      "grid_column": null,
      "grid_gap": null,
      "grid_row": null,
      "grid_template_areas": null,
      "grid_template_columns": null,
      "grid_template_rows": null,
      "height": null,
      "justify_content": null,
      "justify_items": null,
      "left": null,
      "margin": null,
      "max_height": null,
      "max_width": null,
      "min_height": null,
      "min_width": null,
      "object_fit": null,
      "object_position": null,
      "order": null,
      "overflow": null,
      "overflow_x": null,
      "overflow_y": null,
      "padding": null,
      "right": null,
      "top": null,
      "visibility": null,
      "width": null
     }
    },
    "0e92d24aa67a4463843f09da7d592c94": {
     "model_module": "@jupyter-widgets/controls",
     "model_module_version": "1.5.0",
     "model_name": "DescriptionStyleModel",
     "state": {
      "_model_module": "@jupyter-widgets/controls",
      "_model_module_version": "1.5.0",
      "_model_name": "DescriptionStyleModel",
      "_view_count": null,
      "_view_module": "@jupyter-widgets/base",
      "_view_module_version": "1.2.0",
      "_view_name": "StyleView",
      "description_width": ""
     }
    },
    "0f4366c0c2f74505b5268165f3ff15b5": {
     "model_module": "@jupyter-widgets/base",
     "model_module_version": "1.2.0",
     "model_name": "LayoutModel",
     "state": {
      "_model_module": "@jupyter-widgets/base",
      "_model_module_version": "1.2.0",
      "_model_name": "LayoutModel",
      "_view_count": null,
      "_view_module": "@jupyter-widgets/base",
      "_view_module_version": "1.2.0",
      "_view_name": "LayoutView",
      "align_content": null,
      "align_items": null,
      "align_self": null,
      "border": null,
      "bottom": null,
      "display": null,
      "flex": null,
      "flex_flow": null,
      "grid_area": null,
      "grid_auto_columns": null,
      "grid_auto_flow": null,
      "grid_auto_rows": null,
      "grid_column": null,
      "grid_gap": null,
      "grid_row": null,
      "grid_template_areas": null,
      "grid_template_columns": null,
      "grid_template_rows": null,
      "height": null,
      "justify_content": null,
      "justify_items": null,
      "left": null,
      "margin": null,
      "max_height": null,
      "max_width": null,
      "min_height": null,
      "min_width": null,
      "object_fit": null,
      "object_position": null,
      "order": null,
      "overflow": null,
      "overflow_x": null,
      "overflow_y": null,
      "padding": null,
      "right": null,
      "top": null,
      "visibility": null,
      "width": null
     }
    },
    "104351e0f60c4dceacc51617d69cdef2": {
     "model_module": "@jupyter-widgets/controls",
     "model_module_version": "1.5.0",
     "model_name": "HTMLModel",
     "state": {
      "_dom_classes": [],
      "_model_module": "@jupyter-widgets/controls",
      "_model_module_version": "1.5.0",
      "_model_name": "HTMLModel",
      "_view_count": null,
      "_view_module": "@jupyter-widgets/controls",
      "_view_module_version": "1.5.0",
      "_view_name": "HTMLView",
      "description": "",
      "description_tooltip": null,
      "layout": "IPY_MODEL_8d800f0793034ec29c37ac6e35ab3375",
      "placeholder": "​",
      "style": "IPY_MODEL_5c5460fe4d344d9aaa3e87e41ca08164",
      "value": " 629/629 [00:00&lt;00:00, 47.2kB/s]"
     }
    },
    "147da8015a5744b293df28397d0cb08c": {
     "model_module": "@jupyter-widgets/base",
     "model_module_version": "1.2.0",
     "model_name": "LayoutModel",
     "state": {
      "_model_module": "@jupyter-widgets/base",
      "_model_module_version": "1.2.0",
      "_model_name": "LayoutModel",
      "_view_count": null,
      "_view_module": "@jupyter-widgets/base",
      "_view_module_version": "1.2.0",
      "_view_name": "LayoutView",
      "align_content": null,
      "align_items": null,
      "align_self": null,
      "border": null,
      "bottom": null,
      "display": null,
      "flex": null,
      "flex_flow": null,
      "grid_area": null,
      "grid_auto_columns": null,
      "grid_auto_flow": null,
      "grid_auto_rows": null,
      "grid_column": null,
      "grid_gap": null,
      "grid_row": null,
      "grid_template_areas": null,
      "grid_template_columns": null,
      "grid_template_rows": null,
      "height": null,
      "justify_content": null,
      "justify_items": null,
      "left": null,
      "margin": null,
      "max_height": null,
      "max_width": null,
      "min_height": null,
      "min_width": null,
      "object_fit": null,
      "object_position": null,
      "order": null,
      "overflow": null,
      "overflow_x": null,
      "overflow_y": null,
      "padding": null,
      "right": null,
      "top": null,
      "visibility": null,
      "width": null
     }
    },
    "154effefd76744f1847a4e90cd50adbe": {
     "model_module": "@jupyter-widgets/controls",
     "model_module_version": "1.5.0",
     "model_name": "ProgressStyleModel",
     "state": {
      "_model_module": "@jupyter-widgets/controls",
      "_model_module_version": "1.5.0",
      "_model_name": "ProgressStyleModel",
      "_view_count": null,
      "_view_module": "@jupyter-widgets/base",
      "_view_module_version": "1.2.0",
      "_view_name": "StyleView",
      "bar_color": null,
      "description_width": ""
     }
    },
    "178de3d498054417b5f3661675d2deff": {
     "model_module": "@jupyter-widgets/controls",
     "model_module_version": "1.5.0",
     "model_name": "DescriptionStyleModel",
     "state": {
      "_model_module": "@jupyter-widgets/controls",
      "_model_module_version": "1.5.0",
      "_model_name": "DescriptionStyleModel",
      "_view_count": null,
      "_view_module": "@jupyter-widgets/base",
      "_view_module_version": "1.2.0",
      "_view_name": "StyleView",
      "description_width": ""
     }
    },
    "2ec467cae94e4f8fa22bc3d2bc563e85": {
     "model_module": "@jupyter-widgets/controls",
     "model_module_version": "1.5.0",
     "model_name": "DescriptionStyleModel",
     "state": {
      "_model_module": "@jupyter-widgets/controls",
      "_model_module_version": "1.5.0",
      "_model_name": "DescriptionStyleModel",
      "_view_count": null,
      "_view_module": "@jupyter-widgets/base",
      "_view_module_version": "1.2.0",
      "_view_name": "StyleView",
      "description_width": ""
     }
    },
    "381e15620779478db7fcf1bd2d124c1b": {
     "model_module": "@jupyter-widgets/controls",
     "model_module_version": "1.5.0",
     "model_name": "FloatProgressModel",
     "state": {
      "_dom_classes": [],
      "_model_module": "@jupyter-widgets/controls",
      "_model_module_version": "1.5.0",
      "_model_name": "FloatProgressModel",
      "_view_count": null,
      "_view_module": "@jupyter-widgets/controls",
      "_view_module_version": "1.5.0",
      "_view_name": "ProgressView",
      "bar_style": "success",
      "description": "",
      "description_tooltip": null,
      "layout": "IPY_MODEL_9bf3f371933f4d328efa23edc61f9f46",
      "max": 231508,
      "min": 0,
      "orientation": "horizontal",
      "style": "IPY_MODEL_ffeda0d9845d4610aa25c47c14ad90f1",
      "value": 231508
     }
    },
    "39e75864886e4a6c8ca47a53375d1e55": {
     "model_module": "@jupyter-widgets/controls",
     "model_module_version": "1.5.0",
     "model_name": "FloatProgressModel",
     "state": {
      "_dom_classes": [],
      "_model_module": "@jupyter-widgets/controls",
      "_model_module_version": "1.5.0",
      "_model_name": "FloatProgressModel",
      "_view_count": null,
      "_view_module": "@jupyter-widgets/controls",
      "_view_module_version": "1.5.0",
      "_view_name": "ProgressView",
      "bar_style": "success",
      "description": "",
      "description_tooltip": null,
      "layout": "IPY_MODEL_579642ddd5bf47e2861f1c7ae034f2a0",
      "max": 69583549,
      "min": 0,
      "orientation": "horizontal",
      "style": "IPY_MODEL_a8f4bfce2b534d7b9a302ecb6986609d",
      "value": 69583549
     }
    },
    "3f40ded8f3884d468803b5cbb92d04af": {
     "model_module": "@jupyter-widgets/controls",
     "model_module_version": "1.5.0",
     "model_name": "FloatProgressModel",
     "state": {
      "_dom_classes": [],
      "_model_module": "@jupyter-widgets/controls",
      "_model_module_version": "1.5.0",
      "_model_name": "FloatProgressModel",
      "_view_count": null,
      "_view_module": "@jupyter-widgets/controls",
      "_view_module_version": "1.5.0",
      "_view_name": "ProgressView",
      "bar_style": "success",
      "description": "",
      "description_tooltip": null,
      "layout": "IPY_MODEL_b47e5878d64c40519b6cb51321b90f62",
      "max": 314,
      "min": 0,
      "orientation": "horizontal",
      "style": "IPY_MODEL_ef30cb62a33341cfa92780794e578fa8",
      "value": 314
     }
    },
    "3fad1ce87a9f4b1baad4c056bd76d0ad": {
     "model_module": "@jupyter-widgets/controls",
     "model_module_version": "1.5.0",
     "model_name": "HTMLModel",
     "state": {
      "_dom_classes": [],
      "_model_module": "@jupyter-widgets/controls",
      "_model_module_version": "1.5.0",
      "_model_name": "HTMLModel",
      "_view_count": null,
      "_view_module": "@jupyter-widgets/controls",
      "_view_module_version": "1.5.0",
      "_view_name": "HTMLView",
      "description": "",
      "description_tooltip": null,
      "layout": "IPY_MODEL_98b25709d1f34983bf771a1bbd3dae3d",
      "placeholder": "​",
      "style": "IPY_MODEL_bcfbcdafd7dd4d77a26037458e909fe5",
      "value": "Downloading (…)okenizer_config.json: 100%"
     }
    },
    "5341a0d3bcaa4f44a3bc1673411b8135": {
     "model_module": "@jupyter-widgets/controls",
     "model_module_version": "1.5.0",
     "model_name": "HBoxModel",
     "state": {
      "_dom_classes": [],
      "_model_module": "@jupyter-widgets/controls",
      "_model_module_version": "1.5.0",
      "_model_name": "HBoxModel",
      "_view_count": null,
      "_view_module": "@jupyter-widgets/controls",
      "_view_module_version": "1.5.0",
      "_view_name": "HBoxView",
      "box_style": "",
      "children": [
       "IPY_MODEL_3fad1ce87a9f4b1baad4c056bd76d0ad",
       "IPY_MODEL_3f40ded8f3884d468803b5cbb92d04af",
       "IPY_MODEL_b272914175c14c5494bbd466ced2c24c"
      ],
      "layout": "IPY_MODEL_7952be014e164b07ab81898a97fbc331"
     }
    },
    "563e4f1cc475402080aa71949a012f49": {
     "model_module": "@jupyter-widgets/base",
     "model_module_version": "1.2.0",
     "model_name": "LayoutModel",
     "state": {
      "_model_module": "@jupyter-widgets/base",
      "_model_module_version": "1.2.0",
      "_model_name": "LayoutModel",
      "_view_count": null,
      "_view_module": "@jupyter-widgets/base",
      "_view_module_version": "1.2.0",
      "_view_name": "LayoutView",
      "align_content": null,
      "align_items": null,
      "align_self": null,
      "border": null,
      "bottom": null,
      "display": null,
      "flex": null,
      "flex_flow": null,
      "grid_area": null,
      "grid_auto_columns": null,
      "grid_auto_flow": null,
      "grid_auto_rows": null,
      "grid_column": null,
      "grid_gap": null,
      "grid_row": null,
      "grid_template_areas": null,
      "grid_template_columns": null,
      "grid_template_rows": null,
      "height": null,
      "justify_content": null,
      "justify_items": null,
      "left": null,
      "margin": null,
      "max_height": null,
      "max_width": null,
      "min_height": null,
      "min_width": null,
      "object_fit": null,
      "object_position": null,
      "order": null,
      "overflow": null,
      "overflow_x": null,
      "overflow_y": null,
      "padding": null,
      "right": null,
      "top": null,
      "visibility": null,
      "width": null
     }
    },
    "579642ddd5bf47e2861f1c7ae034f2a0": {
     "model_module": "@jupyter-widgets/base",
     "model_module_version": "1.2.0",
     "model_name": "LayoutModel",
     "state": {
      "_model_module": "@jupyter-widgets/base",
      "_model_module_version": "1.2.0",
      "_model_name": "LayoutModel",
      "_view_count": null,
      "_view_module": "@jupyter-widgets/base",
      "_view_module_version": "1.2.0",
      "_view_name": "LayoutView",
      "align_content": null,
      "align_items": null,
      "align_self": null,
      "border": null,
      "bottom": null,
      "display": null,
      "flex": null,
      "flex_flow": null,
      "grid_area": null,
      "grid_auto_columns": null,
      "grid_auto_flow": null,
      "grid_auto_rows": null,
      "grid_column": null,
      "grid_gap": null,
      "grid_row": null,
      "grid_template_areas": null,
      "grid_template_columns": null,
      "grid_template_rows": null,
      "height": null,
      "justify_content": null,
      "justify_items": null,
      "left": null,
      "margin": null,
      "max_height": null,
      "max_width": null,
      "min_height": null,
      "min_width": null,
      "object_fit": null,
      "object_position": null,
      "order": null,
      "overflow": null,
      "overflow_x": null,
      "overflow_y": null,
      "padding": null,
      "right": null,
      "top": null,
      "visibility": null,
      "width": null
     }
    },
    "5c5460fe4d344d9aaa3e87e41ca08164": {
     "model_module": "@jupyter-widgets/controls",
     "model_module_version": "1.5.0",
     "model_name": "DescriptionStyleModel",
     "state": {
      "_model_module": "@jupyter-widgets/controls",
      "_model_module_version": "1.5.0",
      "_model_name": "DescriptionStyleModel",
      "_view_count": null,
      "_view_module": "@jupyter-widgets/base",
      "_view_module_version": "1.2.0",
      "_view_name": "StyleView",
      "description_width": ""
     }
    },
    "671767bc077146a1aeed5607c971d138": {
     "model_module": "@jupyter-widgets/base",
     "model_module_version": "1.2.0",
     "model_name": "LayoutModel",
     "state": {
      "_model_module": "@jupyter-widgets/base",
      "_model_module_version": "1.2.0",
      "_model_name": "LayoutModel",
      "_view_count": null,
      "_view_module": "@jupyter-widgets/base",
      "_view_module_version": "1.2.0",
      "_view_name": "LayoutView",
      "align_content": null,
      "align_items": null,
      "align_self": null,
      "border": null,
      "bottom": null,
      "display": null,
      "flex": null,
      "flex_flow": null,
      "grid_area": null,
      "grid_auto_columns": null,
      "grid_auto_flow": null,
      "grid_auto_rows": null,
      "grid_column": null,
      "grid_gap": null,
      "grid_row": null,
      "grid_template_areas": null,
      "grid_template_columns": null,
      "grid_template_rows": null,
      "height": null,
      "justify_content": null,
      "justify_items": null,
      "left": null,
      "margin": null,
      "max_height": null,
      "max_width": null,
      "min_height": null,
      "min_width": null,
      "object_fit": null,
      "object_position": null,
      "order": null,
      "overflow": null,
      "overflow_x": null,
      "overflow_y": null,
      "padding": null,
      "right": null,
      "top": null,
      "visibility": null,
      "width": null
     }
    },
    "6b8ec460c2694c0ab4ed319f3d11e119": {
     "model_module": "@jupyter-widgets/controls",
     "model_module_version": "1.5.0",
     "model_name": "FloatProgressModel",
     "state": {
      "_dom_classes": [],
      "_model_module": "@jupyter-widgets/controls",
      "_model_module_version": "1.5.0",
      "_model_name": "FloatProgressModel",
      "_view_count": null,
      "_view_module": "@jupyter-widgets/controls",
      "_view_module_version": "1.5.0",
      "_view_name": "ProgressView",
      "bar_style": "success",
      "description": "",
      "description_tooltip": null,
      "layout": "IPY_MODEL_b6eba96636d54bbbbb87665595f9d96d",
      "max": 466248,
      "min": 0,
      "orientation": "horizontal",
      "style": "IPY_MODEL_c9532f4e341a4503abe2affac1f8e88e",
      "value": 466248
     }
    },
    "6d00b5d46c58434cb2dedd09f975e504": {
     "model_module": "@jupyter-widgets/base",
     "model_module_version": "1.2.0",
     "model_name": "LayoutModel",
     "state": {
      "_model_module": "@jupyter-widgets/base",
      "_model_module_version": "1.2.0",
      "_model_name": "LayoutModel",
      "_view_count": null,
      "_view_module": "@jupyter-widgets/base",
      "_view_module_version": "1.2.0",
      "_view_name": "LayoutView",
      "align_content": null,
      "align_items": null,
      "align_self": null,
      "border": null,
      "bottom": null,
      "display": null,
      "flex": null,
      "flex_flow": null,
      "grid_area": null,
      "grid_auto_columns": null,
      "grid_auto_flow": null,
      "grid_auto_rows": null,
      "grid_column": null,
      "grid_gap": null,
      "grid_row": null,
      "grid_template_areas": null,
      "grid_template_columns": null,
      "grid_template_rows": null,
      "height": null,
      "justify_content": null,
      "justify_items": null,
      "left": null,
      "margin": null,
      "max_height": null,
      "max_width": null,
      "min_height": null,
      "min_width": null,
      "object_fit": null,
      "object_position": null,
      "order": null,
      "overflow": null,
      "overflow_x": null,
      "overflow_y": null,
      "padding": null,
      "right": null,
      "top": null,
      "visibility": null,
      "width": null
     }
    },
    "70b8347a3a2c45b2b78a0117ec52e7ae": {
     "model_module": "@jupyter-widgets/controls",
     "model_module_version": "1.5.0",
     "model_name": "DescriptionStyleModel",
     "state": {
      "_model_module": "@jupyter-widgets/controls",
      "_model_module_version": "1.5.0",
      "_model_name": "DescriptionStyleModel",
      "_view_count": null,
      "_view_module": "@jupyter-widgets/base",
      "_view_module_version": "1.2.0",
      "_view_name": "StyleView",
      "description_width": ""
     }
    },
    "74dfc96b83f34e3c8403c192f423a6e3": {
     "model_module": "@jupyter-widgets/base",
     "model_module_version": "1.2.0",
     "model_name": "LayoutModel",
     "state": {
      "_model_module": "@jupyter-widgets/base",
      "_model_module_version": "1.2.0",
      "_model_name": "LayoutModel",
      "_view_count": null,
      "_view_module": "@jupyter-widgets/base",
      "_view_module_version": "1.2.0",
      "_view_name": "LayoutView",
      "align_content": null,
      "align_items": null,
      "align_self": null,
      "border": null,
      "bottom": null,
      "display": null,
      "flex": null,
      "flex_flow": null,
      "grid_area": null,
      "grid_auto_columns": null,
      "grid_auto_flow": null,
      "grid_auto_rows": null,
      "grid_column": null,
      "grid_gap": null,
      "grid_row": null,
      "grid_template_areas": null,
      "grid_template_columns": null,
      "grid_template_rows": null,
      "height": null,
      "justify_content": null,
      "justify_items": null,
      "left": null,
      "margin": null,
      "max_height": null,
      "max_width": null,
      "min_height": null,
      "min_width": null,
      "object_fit": null,
      "object_position": null,
      "order": null,
      "overflow": null,
      "overflow_x": null,
      "overflow_y": null,
      "padding": null,
      "right": null,
      "top": null,
      "visibility": null,
      "width": null
     }
    },
    "7506d573de6c4844bbf5f4af7947424b": {
     "model_module": "@jupyter-widgets/base",
     "model_module_version": "1.2.0",
     "model_name": "LayoutModel",
     "state": {
      "_model_module": "@jupyter-widgets/base",
      "_model_module_version": "1.2.0",
      "_model_name": "LayoutModel",
      "_view_count": null,
      "_view_module": "@jupyter-widgets/base",
      "_view_module_version": "1.2.0",
      "_view_name": "LayoutView",
      "align_content": null,
      "align_items": null,
      "align_self": null,
      "border": null,
      "bottom": null,
      "display": null,
      "flex": null,
      "flex_flow": null,
      "grid_area": null,
      "grid_auto_columns": null,
      "grid_auto_flow": null,
      "grid_auto_rows": null,
      "grid_column": null,
      "grid_gap": null,
      "grid_row": null,
      "grid_template_areas": null,
      "grid_template_columns": null,
      "grid_template_rows": null,
      "height": null,
      "justify_content": null,
      "justify_items": null,
      "left": null,
      "margin": null,
      "max_height": null,
      "max_width": null,
      "min_height": null,
      "min_width": null,
      "object_fit": null,
      "object_position": null,
      "order": null,
      "overflow": null,
      "overflow_x": null,
      "overflow_y": null,
      "padding": null,
      "right": null,
      "top": null,
      "visibility": null,
      "width": null
     }
    },
    "765d7438bce044758c9b1b818ede9ac4": {
     "model_module": "@jupyter-widgets/base",
     "model_module_version": "1.2.0",
     "model_name": "LayoutModel",
     "state": {
      "_model_module": "@jupyter-widgets/base",
      "_model_module_version": "1.2.0",
      "_model_name": "LayoutModel",
      "_view_count": null,
      "_view_module": "@jupyter-widgets/base",
      "_view_module_version": "1.2.0",
      "_view_name": "LayoutView",
      "align_content": null,
      "align_items": null,
      "align_self": null,
      "border": null,
      "bottom": null,
      "display": null,
      "flex": null,
      "flex_flow": null,
      "grid_area": null,
      "grid_auto_columns": null,
      "grid_auto_flow": null,
      "grid_auto_rows": null,
      "grid_column": null,
      "grid_gap": null,
      "grid_row": null,
      "grid_template_areas": null,
      "grid_template_columns": null,
      "grid_template_rows": null,
      "height": null,
      "justify_content": null,
      "justify_items": null,
      "left": null,
      "margin": null,
      "max_height": null,
      "max_width": null,
      "min_height": null,
      "min_width": null,
      "object_fit": null,
      "object_position": null,
      "order": null,
      "overflow": null,
      "overflow_x": null,
      "overflow_y": null,
      "padding": null,
      "right": null,
      "top": null,
      "visibility": null,
      "width": null
     }
    },
    "77d8310b1be34cf594a4731b9845e2a2": {
     "model_module": "@jupyter-widgets/controls",
     "model_module_version": "1.5.0",
     "model_name": "HBoxModel",
     "state": {
      "_dom_classes": [],
      "_model_module": "@jupyter-widgets/controls",
      "_model_module_version": "1.5.0",
      "_model_name": "HBoxModel",
      "_view_count": null,
      "_view_module": "@jupyter-widgets/controls",
      "_view_module_version": "1.5.0",
      "_view_name": "HBoxView",
      "box_style": "",
      "children": [
       "IPY_MODEL_862bfc472db84bfc8f031fd3a76e9809",
       "IPY_MODEL_381e15620779478db7fcf1bd2d124c1b",
       "IPY_MODEL_ea5c189c9660499f844a6fe3c90c59bf"
      ],
      "layout": "IPY_MODEL_0b478c1f483e4fccbb6f56f002234dea"
     }
    },
    "7952be014e164b07ab81898a97fbc331": {
     "model_module": "@jupyter-widgets/base",
     "model_module_version": "1.2.0",
     "model_name": "LayoutModel",
     "state": {
      "_model_module": "@jupyter-widgets/base",
      "_model_module_version": "1.2.0",
      "_model_name": "LayoutModel",
      "_view_count": null,
      "_view_module": "@jupyter-widgets/base",
      "_view_module_version": "1.2.0",
      "_view_name": "LayoutView",
      "align_content": null,
      "align_items": null,
      "align_self": null,
      "border": null,
      "bottom": null,
      "display": null,
      "flex": null,
      "flex_flow": null,
      "grid_area": null,
      "grid_auto_columns": null,
      "grid_auto_flow": null,
      "grid_auto_rows": null,
      "grid_column": null,
      "grid_gap": null,
      "grid_row": null,
      "grid_template_areas": null,
      "grid_template_columns": null,
      "grid_template_rows": null,
      "height": null,
      "justify_content": null,
      "justify_items": null,
      "left": null,
      "margin": null,
      "max_height": null,
      "max_width": null,
      "min_height": null,
      "min_width": null,
      "object_fit": null,
      "object_position": null,
      "order": null,
      "overflow": null,
      "overflow_x": null,
      "overflow_y": null,
      "padding": null,
      "right": null,
      "top": null,
      "visibility": null,
      "width": null
     }
    },
    "7bd6fbe38ada40d5a18dcfa021326ea5": {
     "model_module": "@jupyter-widgets/controls",
     "model_module_version": "1.5.0",
     "model_name": "HBoxModel",
     "state": {
      "_dom_classes": [],
      "_model_module": "@jupyter-widgets/controls",
      "_model_module_version": "1.5.0",
      "_model_name": "HBoxModel",
      "_view_count": null,
      "_view_module": "@jupyter-widgets/controls",
      "_view_module_version": "1.5.0",
      "_view_name": "HBoxView",
      "box_style": "",
      "children": [
       "IPY_MODEL_9fbb36b544104cf2be8d7a6aa7cf28e1",
       "IPY_MODEL_6b8ec460c2694c0ab4ed319f3d11e119",
       "IPY_MODEL_93068874e3c3415bb750db3439d9cf6a"
      ],
      "layout": "IPY_MODEL_bd3ced1d62224f7185d14373ad07cdff"
     }
    },
    "85f4be5ebdc94c7e8001a083a7c40154": {
     "model_module": "@jupyter-widgets/controls",
     "model_module_version": "1.5.0",
     "model_name": "DescriptionStyleModel",
     "state": {
      "_model_module": "@jupyter-widgets/controls",
      "_model_module_version": "1.5.0",
      "_model_name": "DescriptionStyleModel",
      "_view_count": null,
      "_view_module": "@jupyter-widgets/base",
      "_view_module_version": "1.2.0",
      "_view_name": "StyleView",
      "description_width": ""
     }
    },
    "862bfc472db84bfc8f031fd3a76e9809": {
     "model_module": "@jupyter-widgets/controls",
     "model_module_version": "1.5.0",
     "model_name": "HTMLModel",
     "state": {
      "_dom_classes": [],
      "_model_module": "@jupyter-widgets/controls",
      "_model_module_version": "1.5.0",
      "_model_name": "HTMLModel",
      "_view_count": null,
      "_view_module": "@jupyter-widgets/controls",
      "_view_module_version": "1.5.0",
      "_view_name": "HTMLView",
      "description": "",
      "description_tooltip": null,
      "layout": "IPY_MODEL_d0fe5abc20594822bba649da177c106b",
      "placeholder": "​",
      "style": "IPY_MODEL_70b8347a3a2c45b2b78a0117ec52e7ae",
      "value": "Downloading (…)solve/main/vocab.txt: 100%"
     }
    },
    "87ef10ff662a4ea0994296b0c8577c3d": {
     "model_module": "@jupyter-widgets/controls",
     "model_module_version": "1.5.0",
     "model_name": "FloatProgressModel",
     "state": {
      "_dom_classes": [],
      "_model_module": "@jupyter-widgets/controls",
      "_model_module_version": "1.5.0",
      "_model_name": "FloatProgressModel",
      "_view_count": null,
      "_view_module": "@jupyter-widgets/controls",
      "_view_module_version": "1.5.0",
      "_view_name": "ProgressView",
      "bar_style": "success",
      "description": "",
      "description_tooltip": null,
      "layout": "IPY_MODEL_9ca460fa5f584d9c88875eeb30eac76a",
      "max": 629,
      "min": 0,
      "orientation": "horizontal",
      "style": "IPY_MODEL_b288324ff1fb4eeeb359d44cb1a40d12",
      "value": 629
     }
    },
    "89cfc81fe5464ee9abb0a9a1a1b9d141": {
     "model_module": "@jupyter-widgets/controls",
     "model_module_version": "1.5.0",
     "model_name": "DescriptionStyleModel",
     "state": {
      "_model_module": "@jupyter-widgets/controls",
      "_model_module_version": "1.5.0",
      "_model_name": "DescriptionStyleModel",
      "_view_count": null,
      "_view_module": "@jupyter-widgets/base",
      "_view_module_version": "1.2.0",
      "_view_name": "StyleView",
      "description_width": ""
     }
    },
    "8d800f0793034ec29c37ac6e35ab3375": {
     "model_module": "@jupyter-widgets/base",
     "model_module_version": "1.2.0",
     "model_name": "LayoutModel",
     "state": {
      "_model_module": "@jupyter-widgets/base",
      "_model_module_version": "1.2.0",
      "_model_name": "LayoutModel",
      "_view_count": null,
      "_view_module": "@jupyter-widgets/base",
      "_view_module_version": "1.2.0",
      "_view_name": "LayoutView",
      "align_content": null,
      "align_items": null,
      "align_self": null,
      "border": null,
      "bottom": null,
      "display": null,
      "flex": null,
      "flex_flow": null,
      "grid_area": null,
      "grid_auto_columns": null,
      "grid_auto_flow": null,
      "grid_auto_rows": null,
      "grid_column": null,
      "grid_gap": null,
      "grid_row": null,
      "grid_template_areas": null,
      "grid_template_columns": null,
      "grid_template_rows": null,
      "height": null,
      "justify_content": null,
      "justify_items": null,
      "left": null,
      "margin": null,
      "max_height": null,
      "max_width": null,
      "min_height": null,
      "min_width": null,
      "object_fit": null,
      "object_position": null,
      "order": null,
      "overflow": null,
      "overflow_x": null,
      "overflow_y": null,
      "padding": null,
      "right": null,
      "top": null,
      "visibility": null,
      "width": null
     }
    },
    "91c7531f525b4662844c113817a5bd10": {
     "model_module": "@jupyter-widgets/controls",
     "model_module_version": "1.5.0",
     "model_name": "HTMLModel",
     "state": {
      "_dom_classes": [],
      "_model_module": "@jupyter-widgets/controls",
      "_model_module_version": "1.5.0",
      "_model_name": "HTMLModel",
      "_view_count": null,
      "_view_module": "@jupyter-widgets/controls",
      "_view_module_version": "1.5.0",
      "_view_name": "HTMLView",
      "description": "",
      "description_tooltip": null,
      "layout": "IPY_MODEL_563e4f1cc475402080aa71949a012f49",
      "placeholder": "​",
      "style": "IPY_MODEL_ba6d485b3d364808894dc2336d9fd147",
      "value": "Downloading (…)cial_tokens_map.json: 100%"
     }
    },
    "93068874e3c3415bb750db3439d9cf6a": {
     "model_module": "@jupyter-widgets/controls",
     "model_module_version": "1.5.0",
     "model_name": "HTMLModel",
     "state": {
      "_dom_classes": [],
      "_model_module": "@jupyter-widgets/controls",
      "_model_module_version": "1.5.0",
      "_model_name": "HTMLModel",
      "_view_count": null,
      "_view_module": "@jupyter-widgets/controls",
      "_view_module_version": "1.5.0",
      "_view_name": "HTMLView",
      "description": "",
      "description_tooltip": null,
      "layout": "IPY_MODEL_147da8015a5744b293df28397d0cb08c",
      "placeholder": "​",
      "style": "IPY_MODEL_fa17642f8dcd425e87a7ea27c7782afd",
      "value": " 466k/466k [00:00&lt;00:00, 526kB/s]"
     }
    },
    "98b25709d1f34983bf771a1bbd3dae3d": {
     "model_module": "@jupyter-widgets/base",
     "model_module_version": "1.2.0",
     "model_name": "LayoutModel",
     "state": {
      "_model_module": "@jupyter-widgets/base",
      "_model_module_version": "1.2.0",
      "_model_name": "LayoutModel",
      "_view_count": null,
      "_view_module": "@jupyter-widgets/base",
      "_view_module_version": "1.2.0",
      "_view_name": "LayoutView",
      "align_content": null,
      "align_items": null,
      "align_self": null,
      "border": null,
      "bottom": null,
      "display": null,
      "flex": null,
      "flex_flow": null,
      "grid_area": null,
      "grid_auto_columns": null,
      "grid_auto_flow": null,
      "grid_auto_rows": null,
      "grid_column": null,
      "grid_gap": null,
      "grid_row": null,
      "grid_template_areas": null,
      "grid_template_columns": null,
      "grid_template_rows": null,
      "height": null,
      "justify_content": null,
      "justify_items": null,
      "left": null,
      "margin": null,
      "max_height": null,
      "max_width": null,
      "min_height": null,
      "min_width": null,
      "object_fit": null,
      "object_position": null,
      "order": null,
      "overflow": null,
      "overflow_x": null,
      "overflow_y": null,
      "padding": null,
      "right": null,
      "top": null,
      "visibility": null,
      "width": null
     }
    },
    "9adf9f212e5945b58ff185047565bcf3": {
     "model_module": "@jupyter-widgets/base",
     "model_module_version": "1.2.0",
     "model_name": "LayoutModel",
     "state": {
      "_model_module": "@jupyter-widgets/base",
      "_model_module_version": "1.2.0",
      "_model_name": "LayoutModel",
      "_view_count": null,
      "_view_module": "@jupyter-widgets/base",
      "_view_module_version": "1.2.0",
      "_view_name": "LayoutView",
      "align_content": null,
      "align_items": null,
      "align_self": null,
      "border": null,
      "bottom": null,
      "display": null,
      "flex": null,
      "flex_flow": null,
      "grid_area": null,
      "grid_auto_columns": null,
      "grid_auto_flow": null,
      "grid_auto_rows": null,
      "grid_column": null,
      "grid_gap": null,
      "grid_row": null,
      "grid_template_areas": null,
      "grid_template_columns": null,
      "grid_template_rows": null,
      "height": null,
      "justify_content": null,
      "justify_items": null,
      "left": null,
      "margin": null,
      "max_height": null,
      "max_width": null,
      "min_height": null,
      "min_width": null,
      "object_fit": null,
      "object_position": null,
      "order": null,
      "overflow": null,
      "overflow_x": null,
      "overflow_y": null,
      "padding": null,
      "right": null,
      "top": null,
      "visibility": null,
      "width": null
     }
    },
    "9bf3f371933f4d328efa23edc61f9f46": {
     "model_module": "@jupyter-widgets/base",
     "model_module_version": "1.2.0",
     "model_name": "LayoutModel",
     "state": {
      "_model_module": "@jupyter-widgets/base",
      "_model_module_version": "1.2.0",
      "_model_name": "LayoutModel",
      "_view_count": null,
      "_view_module": "@jupyter-widgets/base",
      "_view_module_version": "1.2.0",
      "_view_name": "LayoutView",
      "align_content": null,
      "align_items": null,
      "align_self": null,
      "border": null,
      "bottom": null,
      "display": null,
      "flex": null,
      "flex_flow": null,
      "grid_area": null,
      "grid_auto_columns": null,
      "grid_auto_flow": null,
      "grid_auto_rows": null,
      "grid_column": null,
      "grid_gap": null,
      "grid_row": null,
      "grid_template_areas": null,
      "grid_template_columns": null,
      "grid_template_rows": null,
      "height": null,
      "justify_content": null,
      "justify_items": null,
      "left": null,
      "margin": null,
      "max_height": null,
      "max_width": null,
      "min_height": null,
      "min_width": null,
      "object_fit": null,
      "object_position": null,
      "order": null,
      "overflow": null,
      "overflow_x": null,
      "overflow_y": null,
      "padding": null,
      "right": null,
      "top": null,
      "visibility": null,
      "width": null
     }
    },
    "9ca460fa5f584d9c88875eeb30eac76a": {
     "model_module": "@jupyter-widgets/base",
     "model_module_version": "1.2.0",
     "model_name": "LayoutModel",
     "state": {
      "_model_module": "@jupyter-widgets/base",
      "_model_module_version": "1.2.0",
      "_model_name": "LayoutModel",
      "_view_count": null,
      "_view_module": "@jupyter-widgets/base",
      "_view_module_version": "1.2.0",
      "_view_name": "LayoutView",
      "align_content": null,
      "align_items": null,
      "align_self": null,
      "border": null,
      "bottom": null,
      "display": null,
      "flex": null,
      "flex_flow": null,
      "grid_area": null,
      "grid_auto_columns": null,
      "grid_auto_flow": null,
      "grid_auto_rows": null,
      "grid_column": null,
      "grid_gap": null,
      "grid_row": null,
      "grid_template_areas": null,
      "grid_template_columns": null,
      "grid_template_rows": null,
      "height": null,
      "justify_content": null,
      "justify_items": null,
      "left": null,
      "margin": null,
      "max_height": null,
      "max_width": null,
      "min_height": null,
      "min_width": null,
      "object_fit": null,
      "object_position": null,
      "order": null,
      "overflow": null,
      "overflow_x": null,
      "overflow_y": null,
      "padding": null,
      "right": null,
      "top": null,
      "visibility": null,
      "width": null
     }
    },
    "9fbb36b544104cf2be8d7a6aa7cf28e1": {
     "model_module": "@jupyter-widgets/controls",
     "model_module_version": "1.5.0",
     "model_name": "HTMLModel",
     "state": {
      "_dom_classes": [],
      "_model_module": "@jupyter-widgets/controls",
      "_model_module_version": "1.5.0",
      "_model_name": "HTMLModel",
      "_view_count": null,
      "_view_module": "@jupyter-widgets/controls",
      "_view_module_version": "1.5.0",
      "_view_name": "HTMLView",
      "description": "",
      "description_tooltip": null,
      "layout": "IPY_MODEL_74dfc96b83f34e3c8403c192f423a6e3",
      "placeholder": "​",
      "style": "IPY_MODEL_85f4be5ebdc94c7e8001a083a7c40154",
      "value": "Downloading (…)/main/tokenizer.json: 100%"
     }
    },
    "a41e0d7fd35c44bd80808903ea66cb61": {
     "model_module": "@jupyter-widgets/controls",
     "model_module_version": "1.5.0",
     "model_name": "HBoxModel",
     "state": {
      "_dom_classes": [],
      "_model_module": "@jupyter-widgets/controls",
      "_model_module_version": "1.5.0",
      "_model_name": "HBoxModel",
      "_view_count": null,
      "_view_module": "@jupyter-widgets/controls",
      "_view_module_version": "1.5.0",
      "_view_name": "HBoxView",
      "box_style": "",
      "children": [
       "IPY_MODEL_91c7531f525b4662844c113817a5bd10",
       "IPY_MODEL_0b1501f7bf4a4b509267687b71bca3bb",
       "IPY_MODEL_d860f362d07041228fb279ba07a48a75"
      ],
      "layout": "IPY_MODEL_d135bd21ef514eeb95d91f8629bf7688"
     }
    },
    "a8f4bfce2b534d7b9a302ecb6986609d": {
     "model_module": "@jupyter-widgets/controls",
     "model_module_version": "1.5.0",
     "model_name": "ProgressStyleModel",
     "state": {
      "_model_module": "@jupyter-widgets/controls",
      "_model_module_version": "1.5.0",
      "_model_name": "ProgressStyleModel",
      "_view_count": null,
      "_view_module": "@jupyter-widgets/base",
      "_view_module_version": "1.2.0",
      "_view_name": "StyleView",
      "bar_color": null,
      "description_width": ""
     }
    },
    "b272914175c14c5494bbd466ced2c24c": {
     "model_module": "@jupyter-widgets/controls",
     "model_module_version": "1.5.0",
     "model_name": "HTMLModel",
     "state": {
      "_dom_classes": [],
      "_model_module": "@jupyter-widgets/controls",
      "_model_module_version": "1.5.0",
      "_model_name": "HTMLModel",
      "_view_count": null,
      "_view_module": "@jupyter-widgets/controls",
      "_view_module_version": "1.5.0",
      "_view_name": "HTMLView",
      "description": "",
      "description_tooltip": null,
      "layout": "IPY_MODEL_7506d573de6c4844bbf5f4af7947424b",
      "placeholder": "​",
      "style": "IPY_MODEL_178de3d498054417b5f3661675d2deff",
      "value": " 314/314 [00:00&lt;00:00, 17.4kB/s]"
     }
    },
    "b288324ff1fb4eeeb359d44cb1a40d12": {
     "model_module": "@jupyter-widgets/controls",
     "model_module_version": "1.5.0",
     "model_name": "ProgressStyleModel",
     "state": {
      "_model_module": "@jupyter-widgets/controls",
      "_model_module_version": "1.5.0",
      "_model_name": "ProgressStyleModel",
      "_view_count": null,
      "_view_module": "@jupyter-widgets/base",
      "_view_module_version": "1.2.0",
      "_view_name": "StyleView",
      "bar_color": null,
      "description_width": ""
     }
    },
    "b3df00cb8ab94fcf8b435765b8a9133b": {
     "model_module": "@jupyter-widgets/controls",
     "model_module_version": "1.5.0",
     "model_name": "HTMLModel",
     "state": {
      "_dom_classes": [],
      "_model_module": "@jupyter-widgets/controls",
      "_model_module_version": "1.5.0",
      "_model_name": "HTMLModel",
      "_view_count": null,
      "_view_module": "@jupyter-widgets/controls",
      "_view_module_version": "1.5.0",
      "_view_name": "HTMLView",
      "description": "",
      "description_tooltip": null,
      "layout": "IPY_MODEL_6d00b5d46c58434cb2dedd09f975e504",
      "placeholder": "​",
      "style": "IPY_MODEL_0e92d24aa67a4463843f09da7d592c94",
      "value": "Downloading pytorch_model.bin: 100%"
     }
    },
    "b47e5878d64c40519b6cb51321b90f62": {
     "model_module": "@jupyter-widgets/base",
     "model_module_version": "1.2.0",
     "model_name": "LayoutModel",
     "state": {
      "_model_module": "@jupyter-widgets/base",
      "_model_module_version": "1.2.0",
      "_model_name": "LayoutModel",
      "_view_count": null,
      "_view_module": "@jupyter-widgets/base",
      "_view_module_version": "1.2.0",
      "_view_name": "LayoutView",
      "align_content": null,
      "align_items": null,
      "align_self": null,
      "border": null,
      "bottom": null,
      "display": null,
      "flex": null,
      "flex_flow": null,
      "grid_area": null,
      "grid_auto_columns": null,
      "grid_auto_flow": null,
      "grid_auto_rows": null,
      "grid_column": null,
      "grid_gap": null,
      "grid_row": null,
      "grid_template_areas": null,
      "grid_template_columns": null,
      "grid_template_rows": null,
      "height": null,
      "justify_content": null,
      "justify_items": null,
      "left": null,
      "margin": null,
      "max_height": null,
      "max_width": null,
      "min_height": null,
      "min_width": null,
      "object_fit": null,
      "object_position": null,
      "order": null,
      "overflow": null,
      "overflow_x": null,
      "overflow_y": null,
      "padding": null,
      "right": null,
      "top": null,
      "visibility": null,
      "width": null
     }
    },
    "b6b140015ed746968a3f7bd4210ee5c5": {
     "model_module": "@jupyter-widgets/controls",
     "model_module_version": "1.5.0",
     "model_name": "DescriptionStyleModel",
     "state": {
      "_model_module": "@jupyter-widgets/controls",
      "_model_module_version": "1.5.0",
      "_model_name": "DescriptionStyleModel",
      "_view_count": null,
      "_view_module": "@jupyter-widgets/base",
      "_view_module_version": "1.2.0",
      "_view_name": "StyleView",
      "description_width": ""
     }
    },
    "b6eba96636d54bbbbb87665595f9d96d": {
     "model_module": "@jupyter-widgets/base",
     "model_module_version": "1.2.0",
     "model_name": "LayoutModel",
     "state": {
      "_model_module": "@jupyter-widgets/base",
      "_model_module_version": "1.2.0",
      "_model_name": "LayoutModel",
      "_view_count": null,
      "_view_module": "@jupyter-widgets/base",
      "_view_module_version": "1.2.0",
      "_view_name": "LayoutView",
      "align_content": null,
      "align_items": null,
      "align_self": null,
      "border": null,
      "bottom": null,
      "display": null,
      "flex": null,
      "flex_flow": null,
      "grid_area": null,
      "grid_auto_columns": null,
      "grid_auto_flow": null,
      "grid_auto_rows": null,
      "grid_column": null,
      "grid_gap": null,
      "grid_row": null,
      "grid_template_areas": null,
      "grid_template_columns": null,
      "grid_template_rows": null,
      "height": null,
      "justify_content": null,
      "justify_items": null,
      "left": null,
      "margin": null,
      "max_height": null,
      "max_width": null,
      "min_height": null,
      "min_width": null,
      "object_fit": null,
      "object_position": null,
      "order": null,
      "overflow": null,
      "overflow_x": null,
      "overflow_y": null,
      "padding": null,
      "right": null,
      "top": null,
      "visibility": null,
      "width": null
     }
    },
    "b9b51ab0d78545739a420b73e0231b1d": {
     "model_module": "@jupyter-widgets/base",
     "model_module_version": "1.2.0",
     "model_name": "LayoutModel",
     "state": {
      "_model_module": "@jupyter-widgets/base",
      "_model_module_version": "1.2.0",
      "_model_name": "LayoutModel",
      "_view_count": null,
      "_view_module": "@jupyter-widgets/base",
      "_view_module_version": "1.2.0",
      "_view_name": "LayoutView",
      "align_content": null,
      "align_items": null,
      "align_self": null,
      "border": null,
      "bottom": null,
      "display": null,
      "flex": null,
      "flex_flow": null,
      "grid_area": null,
      "grid_auto_columns": null,
      "grid_auto_flow": null,
      "grid_auto_rows": null,
      "grid_column": null,
      "grid_gap": null,
      "grid_row": null,
      "grid_template_areas": null,
      "grid_template_columns": null,
      "grid_template_rows": null,
      "height": null,
      "justify_content": null,
      "justify_items": null,
      "left": null,
      "margin": null,
      "max_height": null,
      "max_width": null,
      "min_height": null,
      "min_width": null,
      "object_fit": null,
      "object_position": null,
      "order": null,
      "overflow": null,
      "overflow_x": null,
      "overflow_y": null,
      "padding": null,
      "right": null,
      "top": null,
      "visibility": null,
      "width": null
     }
    },
    "ba6d485b3d364808894dc2336d9fd147": {
     "model_module": "@jupyter-widgets/controls",
     "model_module_version": "1.5.0",
     "model_name": "DescriptionStyleModel",
     "state": {
      "_model_module": "@jupyter-widgets/controls",
      "_model_module_version": "1.5.0",
      "_model_name": "DescriptionStyleModel",
      "_view_count": null,
      "_view_module": "@jupyter-widgets/base",
      "_view_module_version": "1.2.0",
      "_view_name": "StyleView",
      "description_width": ""
     }
    },
    "bc1c88900f37416fa8ebec58ec0e8ff3": {
     "model_module": "@jupyter-widgets/controls",
     "model_module_version": "1.5.0",
     "model_name": "HTMLModel",
     "state": {
      "_dom_classes": [],
      "_model_module": "@jupyter-widgets/controls",
      "_model_module_version": "1.5.0",
      "_model_name": "HTMLModel",
      "_view_count": null,
      "_view_module": "@jupyter-widgets/controls",
      "_view_module_version": "1.5.0",
      "_view_name": "HTMLView",
      "description": "",
      "description_tooltip": null,
      "layout": "IPY_MODEL_cbdc5f2631d94d399c00033043711360",
      "placeholder": "​",
      "style": "IPY_MODEL_b6b140015ed746968a3f7bd4210ee5c5",
      "value": " 69.6M/69.6M [00:00&lt;00:00, 165MB/s]"
     }
    },
    "bcfbcdafd7dd4d77a26037458e909fe5": {
     "model_module": "@jupyter-widgets/controls",
     "model_module_version": "1.5.0",
     "model_name": "DescriptionStyleModel",
     "state": {
      "_model_module": "@jupyter-widgets/controls",
      "_model_module_version": "1.5.0",
      "_model_name": "DescriptionStyleModel",
      "_view_count": null,
      "_view_module": "@jupyter-widgets/base",
      "_view_module_version": "1.2.0",
      "_view_name": "StyleView",
      "description_width": ""
     }
    },
    "bd3ced1d62224f7185d14373ad07cdff": {
     "model_module": "@jupyter-widgets/base",
     "model_module_version": "1.2.0",
     "model_name": "LayoutModel",
     "state": {
      "_model_module": "@jupyter-widgets/base",
      "_model_module_version": "1.2.0",
      "_model_name": "LayoutModel",
      "_view_count": null,
      "_view_module": "@jupyter-widgets/base",
      "_view_module_version": "1.2.0",
      "_view_name": "LayoutView",
      "align_content": null,
      "align_items": null,
      "align_self": null,
      "border": null,
      "bottom": null,
      "display": null,
      "flex": null,
      "flex_flow": null,
      "grid_area": null,
      "grid_auto_columns": null,
      "grid_auto_flow": null,
      "grid_auto_rows": null,
      "grid_column": null,
      "grid_gap": null,
      "grid_row": null,
      "grid_template_areas": null,
      "grid_template_columns": null,
      "grid_template_rows": null,
      "height": null,
      "justify_content": null,
      "justify_items": null,
      "left": null,
      "margin": null,
      "max_height": null,
      "max_width": null,
      "min_height": null,
      "min_width": null,
      "object_fit": null,
      "object_position": null,
      "order": null,
      "overflow": null,
      "overflow_x": null,
      "overflow_y": null,
      "padding": null,
      "right": null,
      "top": null,
      "visibility": null,
      "width": null
     }
    },
    "c4dbc238f1304ecba571deabd74ff630": {
     "model_module": "@jupyter-widgets/base",
     "model_module_version": "1.2.0",
     "model_name": "LayoutModel",
     "state": {
      "_model_module": "@jupyter-widgets/base",
      "_model_module_version": "1.2.0",
      "_model_name": "LayoutModel",
      "_view_count": null,
      "_view_module": "@jupyter-widgets/base",
      "_view_module_version": "1.2.0",
      "_view_name": "LayoutView",
      "align_content": null,
      "align_items": null,
      "align_self": null,
      "border": null,
      "bottom": null,
      "display": null,
      "flex": null,
      "flex_flow": null,
      "grid_area": null,
      "grid_auto_columns": null,
      "grid_auto_flow": null,
      "grid_auto_rows": null,
      "grid_column": null,
      "grid_gap": null,
      "grid_row": null,
      "grid_template_areas": null,
      "grid_template_columns": null,
      "grid_template_rows": null,
      "height": null,
      "justify_content": null,
      "justify_items": null,
      "left": null,
      "margin": null,
      "max_height": null,
      "max_width": null,
      "min_height": null,
      "min_width": null,
      "object_fit": null,
      "object_position": null,
      "order": null,
      "overflow": null,
      "overflow_x": null,
      "overflow_y": null,
      "padding": null,
      "right": null,
      "top": null,
      "visibility": null,
      "width": null
     }
    },
    "c9532f4e341a4503abe2affac1f8e88e": {
     "model_module": "@jupyter-widgets/controls",
     "model_module_version": "1.5.0",
     "model_name": "ProgressStyleModel",
     "state": {
      "_model_module": "@jupyter-widgets/controls",
      "_model_module_version": "1.5.0",
      "_model_name": "ProgressStyleModel",
      "_view_count": null,
      "_view_module": "@jupyter-widgets/base",
      "_view_module_version": "1.2.0",
      "_view_name": "StyleView",
      "bar_color": null,
      "description_width": ""
     }
    },
    "cbdc5f2631d94d399c00033043711360": {
     "model_module": "@jupyter-widgets/base",
     "model_module_version": "1.2.0",
     "model_name": "LayoutModel",
     "state": {
      "_model_module": "@jupyter-widgets/base",
      "_model_module_version": "1.2.0",
      "_model_name": "LayoutModel",
      "_view_count": null,
      "_view_module": "@jupyter-widgets/base",
      "_view_module_version": "1.2.0",
      "_view_name": "LayoutView",
      "align_content": null,
      "align_items": null,
      "align_self": null,
      "border": null,
      "bottom": null,
      "display": null,
      "flex": null,
      "flex_flow": null,
      "grid_area": null,
      "grid_auto_columns": null,
      "grid_auto_flow": null,
      "grid_auto_rows": null,
      "grid_column": null,
      "grid_gap": null,
      "grid_row": null,
      "grid_template_areas": null,
      "grid_template_columns": null,
      "grid_template_rows": null,
      "height": null,
      "justify_content": null,
      "justify_items": null,
      "left": null,
      "margin": null,
      "max_height": null,
      "max_width": null,
      "min_height": null,
      "min_width": null,
      "object_fit": null,
      "object_position": null,
      "order": null,
      "overflow": null,
      "overflow_x": null,
      "overflow_y": null,
      "padding": null,
      "right": null,
      "top": null,
      "visibility": null,
      "width": null
     }
    },
    "cf773a5a5a7c43d58957c19654160f6f": {
     "model_module": "@jupyter-widgets/controls",
     "model_module_version": "1.5.0",
     "model_name": "DescriptionStyleModel",
     "state": {
      "_model_module": "@jupyter-widgets/controls",
      "_model_module_version": "1.5.0",
      "_model_name": "DescriptionStyleModel",
      "_view_count": null,
      "_view_module": "@jupyter-widgets/base",
      "_view_module_version": "1.2.0",
      "_view_name": "StyleView",
      "description_width": ""
     }
    },
    "d0fe5abc20594822bba649da177c106b": {
     "model_module": "@jupyter-widgets/base",
     "model_module_version": "1.2.0",
     "model_name": "LayoutModel",
     "state": {
      "_model_module": "@jupyter-widgets/base",
      "_model_module_version": "1.2.0",
      "_model_name": "LayoutModel",
      "_view_count": null,
      "_view_module": "@jupyter-widgets/base",
      "_view_module_version": "1.2.0",
      "_view_name": "LayoutView",
      "align_content": null,
      "align_items": null,
      "align_self": null,
      "border": null,
      "bottom": null,
      "display": null,
      "flex": null,
      "flex_flow": null,
      "grid_area": null,
      "grid_auto_columns": null,
      "grid_auto_flow": null,
      "grid_auto_rows": null,
      "grid_column": null,
      "grid_gap": null,
      "grid_row": null,
      "grid_template_areas": null,
      "grid_template_columns": null,
      "grid_template_rows": null,
      "height": null,
      "justify_content": null,
      "justify_items": null,
      "left": null,
      "margin": null,
      "max_height": null,
      "max_width": null,
      "min_height": null,
      "min_width": null,
      "object_fit": null,
      "object_position": null,
      "order": null,
      "overflow": null,
      "overflow_x": null,
      "overflow_y": null,
      "padding": null,
      "right": null,
      "top": null,
      "visibility": null,
      "width": null
     }
    },
    "d135bd21ef514eeb95d91f8629bf7688": {
     "model_module": "@jupyter-widgets/base",
     "model_module_version": "1.2.0",
     "model_name": "LayoutModel",
     "state": {
      "_model_module": "@jupyter-widgets/base",
      "_model_module_version": "1.2.0",
      "_model_name": "LayoutModel",
      "_view_count": null,
      "_view_module": "@jupyter-widgets/base",
      "_view_module_version": "1.2.0",
      "_view_name": "LayoutView",
      "align_content": null,
      "align_items": null,
      "align_self": null,
      "border": null,
      "bottom": null,
      "display": null,
      "flex": null,
      "flex_flow": null,
      "grid_area": null,
      "grid_auto_columns": null,
      "grid_auto_flow": null,
      "grid_auto_rows": null,
      "grid_column": null,
      "grid_gap": null,
      "grid_row": null,
      "grid_template_areas": null,
      "grid_template_columns": null,
      "grid_template_rows": null,
      "height": null,
      "justify_content": null,
      "justify_items": null,
      "left": null,
      "margin": null,
      "max_height": null,
      "max_width": null,
      "min_height": null,
      "min_width": null,
      "object_fit": null,
      "object_position": null,
      "order": null,
      "overflow": null,
      "overflow_x": null,
      "overflow_y": null,
      "padding": null,
      "right": null,
      "top": null,
      "visibility": null,
      "width": null
     }
    },
    "d6395a6be7334dc4a656a62fea25df3c": {
     "model_module": "@jupyter-widgets/controls",
     "model_module_version": "1.5.0",
     "model_name": "HBoxModel",
     "state": {
      "_dom_classes": [],
      "_model_module": "@jupyter-widgets/controls",
      "_model_module_version": "1.5.0",
      "_model_name": "HBoxModel",
      "_view_count": null,
      "_view_module": "@jupyter-widgets/controls",
      "_view_module_version": "1.5.0",
      "_view_name": "HBoxView",
      "box_style": "",
      "children": [
       "IPY_MODEL_b3df00cb8ab94fcf8b435765b8a9133b",
       "IPY_MODEL_39e75864886e4a6c8ca47a53375d1e55",
       "IPY_MODEL_bc1c88900f37416fa8ebec58ec0e8ff3"
      ],
      "layout": "IPY_MODEL_9adf9f212e5945b58ff185047565bcf3"
     }
    },
    "d860f362d07041228fb279ba07a48a75": {
     "model_module": "@jupyter-widgets/controls",
     "model_module_version": "1.5.0",
     "model_name": "HTMLModel",
     "state": {
      "_dom_classes": [],
      "_model_module": "@jupyter-widgets/controls",
      "_model_module_version": "1.5.0",
      "_model_name": "HTMLModel",
      "_view_count": null,
      "_view_module": "@jupyter-widgets/controls",
      "_view_module_version": "1.5.0",
      "_view_name": "HTMLView",
      "description": "",
      "description_tooltip": null,
      "layout": "IPY_MODEL_0f4366c0c2f74505b5268165f3ff15b5",
      "placeholder": "​",
      "style": "IPY_MODEL_2ec467cae94e4f8fa22bc3d2bc563e85",
      "value": " 112/112 [00:00&lt;00:00, 7.45kB/s]"
     }
    },
    "ea5c189c9660499f844a6fe3c90c59bf": {
     "model_module": "@jupyter-widgets/controls",
     "model_module_version": "1.5.0",
     "model_name": "HTMLModel",
     "state": {
      "_dom_classes": [],
      "_model_module": "@jupyter-widgets/controls",
      "_model_module_version": "1.5.0",
      "_model_name": "HTMLModel",
      "_view_count": null,
      "_view_module": "@jupyter-widgets/controls",
      "_view_module_version": "1.5.0",
      "_view_name": "HTMLView",
      "description": "",
      "description_tooltip": null,
      "layout": "IPY_MODEL_671767bc077146a1aeed5607c971d138",
      "placeholder": "​",
      "style": "IPY_MODEL_cf773a5a5a7c43d58957c19654160f6f",
      "value": " 232k/232k [00:00&lt;00:00, 341kB/s]"
     }
    },
    "ef30cb62a33341cfa92780794e578fa8": {
     "model_module": "@jupyter-widgets/controls",
     "model_module_version": "1.5.0",
     "model_name": "ProgressStyleModel",
     "state": {
      "_model_module": "@jupyter-widgets/controls",
      "_model_module_version": "1.5.0",
      "_model_name": "ProgressStyleModel",
      "_view_count": null,
      "_view_module": "@jupyter-widgets/base",
      "_view_module_version": "1.2.0",
      "_view_name": "StyleView",
      "bar_color": null,
      "description_width": ""
     }
    },
    "ef6d4a9a190c411198829adc42a4e3c5": {
     "model_module": "@jupyter-widgets/controls",
     "model_module_version": "1.5.0",
     "model_name": "HBoxModel",
     "state": {
      "_dom_classes": [],
      "_model_module": "@jupyter-widgets/controls",
      "_model_module_version": "1.5.0",
      "_model_name": "HBoxModel",
      "_view_count": null,
      "_view_module": "@jupyter-widgets/controls",
      "_view_module_version": "1.5.0",
      "_view_name": "HBoxView",
      "box_style": "",
      "children": [
       "IPY_MODEL_ef74f18be5a940ba8696edb399e3b6f7",
       "IPY_MODEL_87ef10ff662a4ea0994296b0c8577c3d",
       "IPY_MODEL_104351e0f60c4dceacc51617d69cdef2"
      ],
      "layout": "IPY_MODEL_b9b51ab0d78545739a420b73e0231b1d"
     }
    },
    "ef74f18be5a940ba8696edb399e3b6f7": {
     "model_module": "@jupyter-widgets/controls",
     "model_module_version": "1.5.0",
     "model_name": "HTMLModel",
     "state": {
      "_dom_classes": [],
      "_model_module": "@jupyter-widgets/controls",
      "_model_module_version": "1.5.0",
      "_model_name": "HTMLModel",
      "_view_count": null,
      "_view_module": "@jupyter-widgets/controls",
      "_view_module_version": "1.5.0",
      "_view_name": "HTMLView",
      "description": "",
      "description_tooltip": null,
      "layout": "IPY_MODEL_765d7438bce044758c9b1b818ede9ac4",
      "placeholder": "​",
      "style": "IPY_MODEL_89cfc81fe5464ee9abb0a9a1a1b9d141",
      "value": "Downloading (…)lve/main/config.json: 100%"
     }
    },
    "fa17642f8dcd425e87a7ea27c7782afd": {
     "model_module": "@jupyter-widgets/controls",
     "model_module_version": "1.5.0",
     "model_name": "DescriptionStyleModel",
     "state": {
      "_model_module": "@jupyter-widgets/controls",
      "_model_module_version": "1.5.0",
      "_model_name": "DescriptionStyleModel",
      "_view_count": null,
      "_view_module": "@jupyter-widgets/base",
      "_view_module_version": "1.2.0",
      "_view_name": "StyleView",
      "description_width": ""
     }
    },
    "ffeda0d9845d4610aa25c47c14ad90f1": {
     "model_module": "@jupyter-widgets/controls",
     "model_module_version": "1.5.0",
     "model_name": "ProgressStyleModel",
     "state": {
      "_model_module": "@jupyter-widgets/controls",
      "_model_module_version": "1.5.0",
      "_model_name": "ProgressStyleModel",
      "_view_count": null,
      "_view_module": "@jupyter-widgets/base",
      "_view_module_version": "1.2.0",
      "_view_name": "StyleView",
      "bar_color": null,
      "description_width": ""
     }
    }
   }
  }
 },
 "nbformat": 4,
 "nbformat_minor": 1
}
